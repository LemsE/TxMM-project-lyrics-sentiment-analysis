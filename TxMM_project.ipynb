{
  "nbformat": 4,
  "nbformat_minor": 0,
  "metadata": {
    "colab": {
      "provenance": []
    },
    "kernelspec": {
      "name": "python3",
      "display_name": "Python 3"
    },
    "language_info": {
      "name": "python"
    }
  },
  "cells": [
    {
      "cell_type": "markdown",
      "source": [
        "## Sentiment Analysis of music lyrics over the decades\n",
        "\n",
        "**RQ1: How has the sentiment of artists in song lyrics changed over the decades?**\n",
        "\n",
        "**RQ2: How have major historical events had an influence on the sentiment of song lyrics?**\n",
        "\n",
        "\n",
        "\n",
        "\n",
        "\n",
        "\n",
        "\n",
        "\n",
        "\n"
      ],
      "metadata": {
        "id": "85yIGRB8CqA4"
      }
    },
    {
      "cell_type": "code",
      "execution_count": 1,
      "metadata": {
        "id": "AqErtZnyITVW"
      },
      "outputs": [],
      "source": [
        "import numpy as np\n",
        "import pandas as pd\n",
        "import matplotlib.pyplot as plt\n",
        "import time"
      ]
    },
    {
      "cell_type": "code",
      "source": [
        "df = pd.read_csv(r'tcc_ceds_music.csv')\n"
      ],
      "metadata": {
        "id": "Z9BWUV6NIix3"
      },
      "execution_count": 2,
      "outputs": []
    },
    {
      "cell_type": "code",
      "source": [
        "print('Shape', df.shape)\n"
      ],
      "metadata": {
        "colab": {
          "base_uri": "https://localhost:8080/"
        },
        "id": "MlsvNOKWItmU",
        "outputId": "ac8948e8-bddb-473b-af61-15a37c1a05f1"
      },
      "execution_count": 4,
      "outputs": [
        {
          "output_type": "stream",
          "name": "stdout",
          "text": [
            "Shape (28372, 31)\n"
          ]
        }
      ]
    },
    {
      "cell_type": "markdown",
      "source": [
        "### Some stats\n",
        "*   Dataframe info\n",
        "*   Frequency of Genres\n",
        "*   Frequency of Topics\n",
        "*   Distribution of music over the decades\n",
        "\n"
      ],
      "metadata": {
        "id": "Ou1Thj1cH694"
      }
    },
    {
      "cell_type": "code",
      "source": [
        "df.info()"
      ],
      "metadata": {
        "colab": {
          "base_uri": "https://localhost:8080/"
        },
        "id": "p_zs6WAPj466",
        "outputId": "0f21b3ff-0438-44dd-8bda-ffb1b17c430d"
      },
      "execution_count": 5,
      "outputs": [
        {
          "output_type": "stream",
          "name": "stdout",
          "text": [
            "<class 'pandas.core.frame.DataFrame'>\n",
            "RangeIndex: 28372 entries, 0 to 28371\n",
            "Data columns (total 31 columns):\n",
            " #   Column                    Non-Null Count  Dtype  \n",
            "---  ------                    --------------  -----  \n",
            " 0   Unnamed: 0                28372 non-null  int64  \n",
            " 1   artist_name               28372 non-null  object \n",
            " 2   track_name                28372 non-null  object \n",
            " 3   release_date              28372 non-null  int64  \n",
            " 4   genre                     28372 non-null  object \n",
            " 5   lyrics                    28372 non-null  object \n",
            " 6   len                       28372 non-null  int64  \n",
            " 7   dating                    28372 non-null  float64\n",
            " 8   violence                  28372 non-null  float64\n",
            " 9   world/life                28372 non-null  float64\n",
            " 10  night/time                28372 non-null  float64\n",
            " 11  shake the audience        28372 non-null  float64\n",
            " 12  family/gospel             28372 non-null  float64\n",
            " 13  romantic                  28372 non-null  float64\n",
            " 14  communication             28372 non-null  float64\n",
            " 15  obscene                   28372 non-null  float64\n",
            " 16  music                     28372 non-null  float64\n",
            " 17  movement/places           28372 non-null  float64\n",
            " 18  light/visual perceptions  28372 non-null  float64\n",
            " 19  family/spiritual          28372 non-null  float64\n",
            " 20  like/girls                28372 non-null  float64\n",
            " 21  sadness                   28372 non-null  float64\n",
            " 22  feelings                  28372 non-null  float64\n",
            " 23  danceability              28372 non-null  float64\n",
            " 24  loudness                  28372 non-null  float64\n",
            " 25  acousticness              28372 non-null  float64\n",
            " 26  instrumentalness          28372 non-null  float64\n",
            " 27  valence                   28372 non-null  float64\n",
            " 28  energy                    28372 non-null  float64\n",
            " 29  topic                     28372 non-null  object \n",
            " 30  age                       28372 non-null  float64\n",
            "dtypes: float64(23), int64(3), object(5)\n",
            "memory usage: 6.7+ MB\n"
          ]
        }
      ]
    },
    {
      "cell_type": "markdown",
      "source": [
        "## Standard visualizations of the data"
      ],
      "metadata": {
        "id": "bsBYe2-Xs3ds"
      }
    },
    {
      "cell_type": "code",
      "source": [
        "print(df['genre'].value_counts()['pop'])\n",
        "\n",
        "\n",
        "df['genre'].value_counts().plot(kind='bar',title='Frequency of Genres', xlabel=\"Genre\",ylabel=\"Frequency count of songs\")\n",
        "\n",
        "filename = 'bar-chart-dist-genres'\n",
        "# plt.savefig(filename+'.pdf',bbox_inches='tight')\n",
        "plt.show()\n"
      ],
      "metadata": {
        "colab": {
          "base_uri": "https://localhost:8080/",
          "height": 340
        },
        "id": "t178OzbZO0hE",
        "outputId": "afed590b-29c2-43eb-9edb-74e242d4e0b5"
      },
      "execution_count": 6,
      "outputs": [
        {
          "output_type": "stream",
          "name": "stdout",
          "text": [
            "7042\n"
          ]
        },
        {
          "output_type": "display_data",
          "data": {
            "text/plain": [
              "<Figure size 432x288 with 1 Axes>"
            ],
            "image/png": "[encoded data removed]"
          },
          "metadata": {
            "needs_background": "light"
          }
        }
      ]
    },
    {
      "cell_type": "code",
      "source": [
        "df['year_interval'] = pd.cut(df['release_date'], bins=[1950, 1960, 1970, 1980,1990,2000,2010,2019], \n",
        "                             include_lowest=True, \n",
        "                             labels=['1950-1960','1960-1970','1970-1980','1980-1990','1990-2000','2000-2010','2010-2019'])\n",
        "mask = df[df['genre']=='hip hop']\n",
        "ax = mask['year_interval'].value_counts(sort=False).plot.bar(figsize=(6,4),title='Distribution of hiphop over the decades', xlabel=\"Decade\",ylabel=\"Frequency count of songs \")\n",
        "print( mask['year_interval'].value_counts(sort=False))\n",
        "\n",
        "filename = 'bar-chart-dist-hiphop'\n",
        "\n",
        "# plt.savefig(filename+'.pdf',bbox_inches='tight')\n",
        "\n",
        "plt.show()"
      ],
      "metadata": {
        "colab": {
          "base_uri": "https://localhost:8080/",
          "height": 479
        },
        "id": "XXx-pFOw1nmS",
        "outputId": "f62decad-71a6-440b-d1f0-7c3197783429"
      },
      "execution_count": 7,
      "outputs": [
        {
          "output_type": "stream",
          "name": "stdout",
          "text": [
            "1950-1960      0\n",
            "1960-1970      0\n",
            "1970-1980      0\n",
            "1980-1990     11\n",
            "1990-2000     32\n",
            "2000-2010    221\n",
            "2010-2019    640\n",
            "Name: year_interval, dtype: int64\n"
          ]
        },
        {
          "output_type": "display_data",
          "data": {
            "text/plain": [
              "<Figure size 432x288 with 1 Axes>"
            ],
            "image/png": "[encoded data removed]"
          },
          "metadata": {
            "needs_background": "light"
          }
        }
      ]
    },
    {
      "cell_type": "code",
      "source": [
        "df['year_interval'] = pd.cut(df['release_date'], bins=[1950, 1960, 1970, 1980,1990,2000,2010,2019], \n",
        "                             include_lowest=True, \n",
        "                             labels=['1950-1960','1960-1970','1970-1980','1980-1990','1990-2000','2000-2010','2010-2019'])\n",
        "mask = df[df['genre']=='rock']\n",
        "ax = mask['year_interval'].value_counts(sort=False).plot.bar(figsize=(6,4),title='Distribution of rock over the decades', xlabel=\"Decade\",ylabel=\"Frequency count of songs \")\n",
        "print( mask['year_interval'].value_counts(sort=False))\n",
        "\n",
        "filename = 'bar-chart-dist-rock'\n",
        "\n",
        "# plt.savefig(filename+'.pdf',bbox_inches='tight')\n",
        "\n",
        "plt.show()"
      ],
      "metadata": {
        "colab": {
          "base_uri": "https://localhost:8080/",
          "height": 479
        },
        "id": "x_KCAjCP4vDA",
        "outputId": "1bbcb499-48a6-492a-c207-a2025be42ed9"
      },
      "execution_count": 8,
      "outputs": [
        {
          "output_type": "stream",
          "name": "stdout",
          "text": [
            "1950-1960    125\n",
            "1960-1970    339\n",
            "1970-1980    576\n",
            "1980-1990    837\n",
            "1990-2000    728\n",
            "2000-2010    648\n",
            "2010-2019    781\n",
            "Name: year_interval, dtype: int64\n"
          ]
        },
        {
          "output_type": "display_data",
          "data": {
            "text/plain": [
              "<Figure size 432x288 with 1 Axes>"
            ],
            "image/png": "[encoded data removed]"
          },
          "metadata": {
            "needs_background": "light"
          }
        }
      ]
    },
    {
      "cell_type": "code",
      "source": [
        "df['topic'].value_counts().plot(kind='bar',title=\"Frequency of topics\")\n",
        "plt.show()"
      ],
      "metadata": {
        "colab": {
          "base_uri": "https://localhost:8080/",
          "height": 323
        },
        "id": "qb_ZYSKo3ApH",
        "outputId": "782a7fa0-350d-42ae-8529-a28cb781cb68"
      },
      "execution_count": 9,
      "outputs": [
        {
          "output_type": "display_data",
          "data": {
            "text/plain": [
              "<Figure size 432x288 with 1 Axes>"
            ],
            "image/png": "[encoded data removed]"
          },
          "metadata": {
            "needs_background": "light"
          }
        }
      ]
    },
    {
      "cell_type": "code",
      "source": [
        "df['year_interval'] = pd.cut(df['release_date'], bins=[1950, 1960, 1970, 1980,1990,2000,2010,2019], \n",
        "                             include_lowest=True, \n",
        "                             labels=['1950-1960','1960-1970','1970-1980','1980-1990','1990-2000','2000-2010','2010-2019'])\n",
        "ax = df['year_interval'].value_counts(sort=False).plot.bar(figsize=(6,4),title='Distribution of music over the decades', xlabel=\"Decade\",ylabel=\"Frequency count of songs \")\n",
        "print( df['year_interval'].value_counts(sort=False))\n",
        "\n",
        "filename = 'bar-chart-dist-years'\n",
        "\n",
        "#plt.savefig(filename+'.pdf',bbox_inches='tight')\n",
        "\n",
        "plt.show()\n",
        "\n"
      ],
      "metadata": {
        "colab": {
          "base_uri": "https://localhost:8080/",
          "height": 479
        },
        "id": "I04GHk6ftpA2",
        "outputId": "7f02a9aa-b65f-47a5-f585-416dbb7adc99"
      },
      "execution_count": 10,
      "outputs": [
        {
          "output_type": "stream",
          "name": "stdout",
          "text": [
            "1950-1960    1742\n",
            "1960-1970    3487\n",
            "1970-1980    4108\n",
            "1980-1990    4578\n",
            "1990-2000    4428\n",
            "2000-2010    4816\n",
            "2010-2019    5213\n",
            "Name: year_interval, dtype: int64\n"
          ]
        },
        {
          "output_type": "display_data",
          "data": {
            "text/plain": [
              "<Figure size 432x288 with 1 Axes>"
            ],
            "image/png": "[encoded data removed]"
          },
          "metadata": {
            "needs_background": "light"
          }
        }
      ]
    },
    {
      "cell_type": "markdown",
      "source": [
        "### Drop unnecessary columns"
      ],
      "metadata": {
        "id": "3WtY-Y4PI2Fs"
      }
    },
    {
      "cell_type": "code",
      "source": [
        "#drop unnecessary\n",
        "df = df.drop(['dating','violence','world/life','night/time','shake the audience',\n",
        "              'family/gospel','romantic','communication','obscene', 'music',\n",
        "              'movement/places','light/visual perceptions', 'family/spiritual',\n",
        "              'like/girls','sadness','feelings','danceability','loudness',\n",
        "              'acousticness','instrumentalness','valence','energy', \"age\", 'len','topic'],axis='columns')\n",
        "df.head()"
      ],
      "metadata": {
        "colab": {
          "base_uri": "https://localhost:8080/",
          "height": 206
        },
        "id": "93UzPQw5k2A8",
        "outputId": "ee1634cf-1ff0-43be-d71a-6d1f4744f300"
      },
      "execution_count": 12,
      "outputs": [
        {
          "output_type": "execute_result",
          "data": {
            "text/plain": [
              "   Unnamed: 0           artist_name            track_name  release_date genre  \\\n",
              "0           0                mukesh  mohabbat bhi jhoothi          1950   pop   \n",
              "1           4         frankie laine             i believe          1950   pop   \n",
              "2           6           johnnie ray                   cry          1950   pop   \n",
              "3          10           pérez prado              patricia          1950   pop   \n",
              "4          12  giorgos papadopoulos    apopse eida oneiro          1950   pop   \n",
              "\n",
              "                                              lyrics year_interval  \n",
              "0  hold time feel break feel untrue convince spea...     1950-1960  \n",
              "1  believe drop rain fall grow believe darkest ni...     1950-1960  \n",
              "2  sweetheart send letter goodbye secret feel bet...     1950-1960  \n",
              "3  kiss lips want stroll charm mambo chacha merin...     1950-1960  \n",
              "4  till darling till matter know till dream live ...     1950-1960  "
            ],
            "text/html": [
              "\n",
              "  <div id=\"df-146b28a4-0d1e-4429-8b90-7ba0818bc753\">\n",
              "    <div class=\"colab-df-container\">\n",
              "      <div>\n",
              "<style scoped>\n",
              "    .dataframe tbody tr th:only-of-type {\n",
              "        vertical-align: middle;\n",
              "    }\n",
              "\n",
              "    .dataframe tbody tr th {\n",
              "        vertical-align: top;\n",
              "    }\n",
              "\n",
              "    .dataframe thead th {\n",
              "        text-align: right;\n",
              "    }\n",
              "</style>\n",
              "<table border=\"1\" class=\"dataframe\">\n",
              "  <thead>\n",
              "    <tr style=\"text-align: right;\">\n",
              "      <th></th>\n",
              "      <th>Unnamed: 0</th>\n",
              "      <th>artist_name</th>\n",
              "      <th>track_name</th>\n",
              "      <th>release_date</th>\n",
              "      <th>genre</th>\n",
              "      <th>lyrics</th>\n",
              "      <th>year_interval</th>\n",
              "    </tr>\n",
              "  </thead>\n",
              "  <tbody>\n",
              "    <tr>\n",
              "      <th>0</th>\n",
              "      <td>0</td>\n",
              "      <td>mukesh</td>\n",
              "      <td>mohabbat bhi jhoothi</td>\n",
              "      <td>1950</td>\n",
              "      <td>pop</td>\n",
              "      <td>hold time feel break feel untrue convince spea...</td>\n",
              "      <td>1950-1960</td>\n",
              "    </tr>\n",
              "    <tr>\n",
              "      <th>1</th>\n",
              "      <td>4</td>\n",
              "      <td>frankie laine</td>\n",
              "      <td>i believe</td>\n",
              "      <td>1950</td>\n",
              "      <td>pop</td>\n",
              "      <td>believe drop rain fall grow believe darkest ni...</td>\n",
              "      <td>1950-1960</td>\n",
              "    </tr>\n",
              "    <tr>\n",
              "      <th>2</th>\n",
              "      <td>6</td>\n",
              "      <td>johnnie ray</td>\n",
              "      <td>cry</td>\n",
              "      <td>1950</td>\n",
              "      <td>pop</td>\n",
              "      <td>sweetheart send letter goodbye secret feel bet...</td>\n",
              "      <td>1950-1960</td>\n",
              "    </tr>\n",
              "    <tr>\n",
              "      <th>3</th>\n",
              "      <td>10</td>\n",
              "      <td>pérez prado</td>\n",
              "      <td>patricia</td>\n",
              "      <td>1950</td>\n",
              "      <td>pop</td>\n",
              "      <td>kiss lips want stroll charm mambo chacha merin...</td>\n",
              "      <td>1950-1960</td>\n",
              "    </tr>\n",
              "    <tr>\n",
              "      <th>4</th>\n",
              "      <td>12</td>\n",
              "      <td>giorgos papadopoulos</td>\n",
              "      <td>apopse eida oneiro</td>\n",
              "      <td>1950</td>\n",
              "      <td>pop</td>\n",
              "      <td>till darling till matter know till dream live ...</td>\n",
              "      <td>1950-1960</td>\n",
              "    </tr>\n",
              "  </tbody>\n",
              "</table>\n",
              "</div>\n",
              "      <button class=\"colab-df-convert\" onclick=\"convertToInteractive('df-146b28a4-0d1e-4429-8b90-7ba0818bc753')\"\n",
              "              title=\"Convert this dataframe to an interactive table.\"\n",
              "              style=\"display:none;\">\n",
              "        \n",
              "  <svg xmlns=\"http://www.w3.org/2000/svg\" height=\"24px\"viewBox=\"0 0 24 24\"\n",
              "       width=\"24px\">\n",
              "    <path d=\"M0 0h24v24H0V0z\" fill=\"none\"/>\n",
              "    <path d=\"M18.56 5.44l.94 2.06.94-2.06 2.06-.94-2.06-.94-.94-2.06-.94 2.06-2.06.94zm-11 1L8.5 8.5l.94-2.06 2.06-.94-2.06-.94L8.5 2.5l-.94 2.06-2.06.94zm10 10l.94 2.06.94-2.06 2.06-.94-2.06-.94-.94-2.06-.94 2.06-2.06.94z\"/><path d=\"M17.41 7.96l-1.37-1.37c-.4-.4-.92-.59-1.43-.59-.52 0-1.04.2-1.43.59L10.3 9.45l-7.72 7.72c-.78.78-.78 2.05 0 2.83L4 21.41c.39.39.9.59 1.41.59.51 0 1.02-.2 1.41-.59l7.78-7.78 2.81-2.81c.8-.78.8-2.07 0-2.86zM5.41 20L4 18.59l7.72-7.72 1.47 1.35L5.41 20z\"/>\n",
              "  </svg>\n",
              "      </button>\n",
              "      \n",
              "  <style>\n",
              "    .colab-df-container {\n",
              "      display:flex;\n",
              "      flex-wrap:wrap;\n",
              "      gap: 12px;\n",
              "    }\n",
              "\n",
              "    .colab-df-convert {\n",
              "      background-color: #E8F0FE;\n",
              "      border: none;\n",
              "      border-radius: 50%;\n",
              "      cursor: pointer;\n",
              "      display: none;\n",
              "      fill: #1967D2;\n",
              "      height: 32px;\n",
              "      padding: 0 0 0 0;\n",
              "      width: 32px;\n",
              "    }\n",
              "\n",
              "    .colab-df-convert:hover {\n",
              "      background-color: #E2EBFA;\n",
              "      box-shadow: 0px 1px 2px rgba(60, 64, 67, 0.3), 0px 1px 3px 1px rgba(60, 64, 67, 0.15);\n",
              "      fill: #174EA6;\n",
              "    }\n",
              "\n",
              "    [theme=dark] .colab-df-convert {\n",
              "      background-color: #3B4455;\n",
              "      fill: #D2E3FC;\n",
              "    }\n",
              "\n",
              "    [theme=dark] .colab-df-convert:hover {\n",
              "      background-color: #434B5C;\n",
              "      box-shadow: 0px 1px 3px 1px rgba(0, 0, 0, 0.15);\n",
              "      filter: drop-shadow(0px 1px 2px rgba(0, 0, 0, 0.3));\n",
              "      fill: #FFFFFF;\n",
              "    }\n",
              "  </style>\n",
              "\n",
              "      <script>\n",
              "        const buttonEl =\n",
              "          document.querySelector('#df-146b28a4-0d1e-4429-8b90-7ba0818bc753 button.colab-df-convert');\n",
              "        buttonEl.style.display =\n",
              "          google.colab.kernel.accessAllowed ? 'block' : 'none';\n",
              "\n",
              "        async function convertToInteractive(key) {\n",
              "          const element = document.querySelector('#df-146b28a4-0d1e-4429-8b90-7ba0818bc753');\n",
              "          const dataTable =\n",
              "            await google.colab.kernel.invokeFunction('convertToInteractive',\n",
              "                                                     [key], {});\n",
              "          if (!dataTable) return;\n",
              "\n",
              "          const docLinkHtml = 'Like what you see? Visit the ' +\n",
              "            '<a target=\"_blank\" href=https://colab.research.google.com/notebooks/data_table.ipynb>data table notebook</a>'\n",
              "            + ' to learn more about interactive tables.';\n",
              "          element.innerHTML = '';\n",
              "          dataTable['output_type'] = 'display_data';\n",
              "          await google.colab.output.renderOutput(dataTable, element);\n",
              "          const docLink = document.createElement('div');\n",
              "          docLink.innerHTML = docLinkHtml;\n",
              "          element.appendChild(docLink);\n",
              "        }\n",
              "      </script>\n",
              "    </div>\n",
              "  </div>\n",
              "  "
            ]
          },
          "metadata": {},
          "execution_count": 12
        }
      ]
    },
    {
      "cell_type": "markdown",
      "source": [
        "## Test performance of the VADER model"
      ],
      "metadata": {
        "id": "EBLxm3LhsdgP"
      }
    },
    {
      "cell_type": "markdown",
      "source": [
        "### Create test set"
      ],
      "metadata": {
        "id": "pAfdD7vhI6PL"
      }
    },
    {
      "cell_type": "markdown",
      "source": [
        "Test set is created with create_test.py"
      ],
      "metadata": {
        "id": "5dqqvjNvTAhp"
      }
    },
    {
      "cell_type": "code",
      "source": [
        "df_validation = pd.read_csv(r'validation_set.csv',index_col=False)\n",
        "df_validation.info()\n"
      ],
      "metadata": {
        "colab": {
          "base_uri": "https://localhost:8080/"
        },
        "id": "jL34MAD6BJE3",
        "outputId": "89317067-8119-40c6-8316-f1d028caba7f"
      },
      "execution_count": 14,
      "outputs": [
        {
          "output_type": "stream",
          "name": "stdout",
          "text": [
            "<class 'pandas.core.frame.DataFrame'>\n",
            "RangeIndex: 70 entries, 0 to 69\n",
            "Data columns (total 5 columns):\n",
            " #   Column         Non-Null Count  Dtype \n",
            "---  ------         --------------  ----- \n",
            " 0   Unnamed: 0     70 non-null     int64 \n",
            " 1   artist_name    70 non-null     object\n",
            " 2   track_name     70 non-null     object\n",
            " 3   lyrics         70 non-null     object\n",
            " 4   year_interval  70 non-null     object\n",
            "dtypes: int64(1), object(4)\n",
            "memory usage: 2.9+ KB\n"
          ]
        }
      ]
    },
    {
      "cell_type": "code",
      "source": [
        "# Imports and stuff\n",
        "import nltk\n",
        "\n",
        "nltk.download(\"vader_lexicon\")\n",
        "\n",
        "from nltk.sentiment.vader import SentimentIntensityAnalyzer\n",
        "from sklearn.metrics import accuracy_score, classification_report"
      ],
      "metadata": {
        "colab": {
          "base_uri": "https://localhost:8080/"
        },
        "id": "xcp4IjQUBndG",
        "outputId": "c8ac6eb9-af4b-499b-cb78-8b6d2a9f1072"
      },
      "execution_count": 15,
      "outputs": [
        {
          "output_type": "stream",
          "name": "stderr",
          "text": [
            "[nltk_data] Downloading package vader_lexicon to /root/nltk_data...\n",
            "[nltk_data]   Package vader_lexicon is already up-to-date!\n"
          ]
        }
      ]
    },
    {
      "cell_type": "code",
      "source": [
        "sent_analyzer = SentimentIntensityAnalyzer()"
      ],
      "metadata": {
        "id": "3nHRCxfaBsSt"
      },
      "execution_count": 16,
      "outputs": []
    },
    {
      "cell_type": "code",
      "source": [
        "def format_output(output_dict):\n",
        "  \n",
        "  polarity = \"neutral\"\n",
        "\n",
        "  if(output_dict['compound']>= 0.05):\n",
        "    polarity = \"positive\"\n",
        "\n",
        "  elif(output_dict['compound']<= -0.05):\n",
        "    polarity = \"negative\"\n",
        "\n",
        "  return polarity\n",
        "\n",
        "def predict_sentiment(text):\n",
        "  \n",
        "  output_dict =  sent_analyzer.polarity_scores(text)\n",
        "  return format_output(output_dict)\n",
        "\n",
        "# Run the predictions\n",
        "df_validation[\"vader_prediction\"] = df_validation[\"lyrics\"].apply(predict_sentiment)"
      ],
      "metadata": {
        "id": "E0W5Pwv0CJlO"
      },
      "execution_count": 17,
      "outputs": []
    },
    {
      "cell_type": "code",
      "source": [
        "labels = pd.read_csv(r'labels.csv',index_col=False)\n",
        "labels.head()\n"
      ],
      "metadata": {
        "colab": {
          "base_uri": "https://localhost:8080/",
          "height": 206
        },
        "id": "mfIyiajSY3aS",
        "outputId": "91db8b4a-d7e6-401e-b5cd-36f11d45d5e7"
      },
      "execution_count": 18,
      "outputs": [
        {
          "output_type": "execute_result",
          "data": {
            "text/plain": [
              "  Sentiment\n",
              "0  positive\n",
              "1   neutral\n",
              "2  positive\n",
              "3  negative\n",
              "4  positive"
            ],
            "text/html": [
              "\n",
              "  <div id=\"df-9e59daf7-63a0-4778-a2a9-9ff901a42839\">\n",
              "    <div class=\"colab-df-container\">\n",
              "      <div>\n",
              "<style scoped>\n",
              "    .dataframe tbody tr th:only-of-type {\n",
              "        vertical-align: middle;\n",
              "    }\n",
              "\n",
              "    .dataframe tbody tr th {\n",
              "        vertical-align: top;\n",
              "    }\n",
              "\n",
              "    .dataframe thead th {\n",
              "        text-align: right;\n",
              "    }\n",
              "</style>\n",
              "<table border=\"1\" class=\"dataframe\">\n",
              "  <thead>\n",
              "    <tr style=\"text-align: right;\">\n",
              "      <th></th>\n",
              "      <th>Sentiment</th>\n",
              "    </tr>\n",
              "  </thead>\n",
              "  <tbody>\n",
              "    <tr>\n",
              "      <th>0</th>\n",
              "      <td>positive</td>\n",
              "    </tr>\n",
              "    <tr>\n",
              "      <th>1</th>\n",
              "      <td>neutral</td>\n",
              "    </tr>\n",
              "    <tr>\n",
              "      <th>2</th>\n",
              "      <td>positive</td>\n",
              "    </tr>\n",
              "    <tr>\n",
              "      <th>3</th>\n",
              "      <td>negative</td>\n",
              "    </tr>\n",
              "    <tr>\n",
              "      <th>4</th>\n",
              "      <td>positive</td>\n",
              "    </tr>\n",
              "  </tbody>\n",
              "</table>\n",
              "</div>\n",
              "      <button class=\"colab-df-convert\" onclick=\"convertToInteractive('df-9e59daf7-63a0-4778-a2a9-9ff901a42839')\"\n",
              "              title=\"Convert this dataframe to an interactive table.\"\n",
              "              style=\"display:none;\">\n",
              "        \n",
              "  <svg xmlns=\"http://www.w3.org/2000/svg\" height=\"24px\"viewBox=\"0 0 24 24\"\n",
              "       width=\"24px\">\n",
              "    <path d=\"M0 0h24v24H0V0z\" fill=\"none\"/>\n",
              "    <path d=\"M18.56 5.44l.94 2.06.94-2.06 2.06-.94-2.06-.94-.94-2.06-.94 2.06-2.06.94zm-11 1L8.5 8.5l.94-2.06 2.06-.94-2.06-.94L8.5 2.5l-.94 2.06-2.06.94zm10 10l.94 2.06.94-2.06 2.06-.94-2.06-.94-.94-2.06-.94 2.06-2.06.94z\"/><path d=\"M17.41 7.96l-1.37-1.37c-.4-.4-.92-.59-1.43-.59-.52 0-1.04.2-1.43.59L10.3 9.45l-7.72 7.72c-.78.78-.78 2.05 0 2.83L4 21.41c.39.39.9.59 1.41.59.51 0 1.02-.2 1.41-.59l7.78-7.78 2.81-2.81c.8-.78.8-2.07 0-2.86zM5.41 20L4 18.59l7.72-7.72 1.47 1.35L5.41 20z\"/>\n",
              "  </svg>\n",
              "      </button>\n",
              "      \n",
              "  <style>\n",
              "    .colab-df-container {\n",
              "      display:flex;\n",
              "      flex-wrap:wrap;\n",
              "      gap: 12px;\n",
              "    }\n",
              "\n",
              "    .colab-df-convert {\n",
              "      background-color: #E8F0FE;\n",
              "      border: none;\n",
              "      border-radius: 50%;\n",
              "      cursor: pointer;\n",
              "      display: none;\n",
              "      fill: #1967D2;\n",
              "      height: 32px;\n",
              "      padding: 0 0 0 0;\n",
              "      width: 32px;\n",
              "    }\n",
              "\n",
              "    .colab-df-convert:hover {\n",
              "      background-color: #E2EBFA;\n",
              "      box-shadow: 0px 1px 2px rgba(60, 64, 67, 0.3), 0px 1px 3px 1px rgba(60, 64, 67, 0.15);\n",
              "      fill: #174EA6;\n",
              "    }\n",
              "\n",
              "    [theme=dark] .colab-df-convert {\n",
              "      background-color: #3B4455;\n",
              "      fill: #D2E3FC;\n",
              "    }\n",
              "\n",
              "    [theme=dark] .colab-df-convert:hover {\n",
              "      background-color: #434B5C;\n",
              "      box-shadow: 0px 1px 3px 1px rgba(0, 0, 0, 0.15);\n",
              "      filter: drop-shadow(0px 1px 2px rgba(0, 0, 0, 0.3));\n",
              "      fill: #FFFFFF;\n",
              "    }\n",
              "  </style>\n",
              "\n",
              "      <script>\n",
              "        const buttonEl =\n",
              "          document.querySelector('#df-9e59daf7-63a0-4778-a2a9-9ff901a42839 button.colab-df-convert');\n",
              "        buttonEl.style.display =\n",
              "          google.colab.kernel.accessAllowed ? 'block' : 'none';\n",
              "\n",
              "        async function convertToInteractive(key) {\n",
              "          const element = document.querySelector('#df-9e59daf7-63a0-4778-a2a9-9ff901a42839');\n",
              "          const dataTable =\n",
              "            await google.colab.kernel.invokeFunction('convertToInteractive',\n",
              "                                                     [key], {});\n",
              "          if (!dataTable) return;\n",
              "\n",
              "          const docLinkHtml = 'Like what you see? Visit the ' +\n",
              "            '<a target=\"_blank\" href=https://colab.research.google.com/notebooks/data_table.ipynb>data table notebook</a>'\n",
              "            + ' to learn more about interactive tables.';\n",
              "          element.innerHTML = '';\n",
              "          dataTable['output_type'] = 'display_data';\n",
              "          await google.colab.output.renderOutput(dataTable, element);\n",
              "          const docLink = document.createElement('div');\n",
              "          docLink.innerHTML = docLinkHtml;\n",
              "          element.appendChild(docLink);\n",
              "        }\n",
              "      </script>\n",
              "    </div>\n",
              "  </div>\n",
              "  "
            ]
          },
          "metadata": {},
          "execution_count": 18
        }
      ]
    },
    {
      "cell_type": "code",
      "source": [
        "# test performance of VADER\n",
        "accuracy = accuracy_score(labels['Sentiment'], df_validation['vader_prediction'])\n",
        "\n",
        "print(\"Accuracy: {}\\n\".format(accuracy))\n",
        "\n",
        "# Show the classification report\n",
        "print(classification_report(labels['Sentiment'], df_validation['vader_prediction']))"
      ],
      "metadata": {
        "colab": {
          "base_uri": "https://localhost:8080/"
        },
        "id": "1HVs7zFeCVu0",
        "outputId": "5df50bad-d238-4b6a-b120-4a3713f76961"
      },
      "execution_count": 19,
      "outputs": [
        {
          "output_type": "stream",
          "name": "stdout",
          "text": [
            "Accuracy: 0.7714285714285715\n",
            "\n",
            "              precision    recall  f1-score   support\n",
            "\n",
            "    negative       0.79      0.65      0.71        23\n",
            "     neutral       1.00      0.40      0.57        10\n",
            "    positive       0.74      0.95      0.83        37\n",
            "\n",
            "    accuracy                           0.77        70\n",
            "   macro avg       0.84      0.67      0.71        70\n",
            "weighted avg       0.80      0.77      0.76        70\n",
            "\n"
          ]
        }
      ]
    },
    {
      "cell_type": "markdown",
      "source": [
        "## Analysis of all song lyrics\n",
        "VADER analysis over the whole dataset."
      ],
      "metadata": {
        "id": "ED6Q8fC_bN6H"
      }
    },
    {
      "cell_type": "code",
      "source": [
        "## VADER on whole dataset\n",
        "start = time.time()\n",
        "df[\"Sentiment predictions\"] = df[\"lyrics\"].apply(predict_sentiment)\n",
        "end = time.time()\n",
        "print(\"Calculation time for VADER was: {} seconds\".format( end - start))\n",
        "df.head()"
      ],
      "metadata": {
        "colab": {
          "base_uri": "https://localhost:8080/",
          "height": 224
        },
        "id": "Pgfm8NWbbY7s",
        "outputId": "7add35f3-3cef-46f1-85c5-67801a4a906c"
      },
      "execution_count": 20,
      "outputs": [
        {
          "output_type": "stream",
          "name": "stdout",
          "text": [
            "Calculation time for VADER was: 51.508002519607544 seconds\n"
          ]
        },
        {
          "output_type": "execute_result",
          "data": {
            "text/plain": [
              "   Unnamed: 0           artist_name            track_name  release_date genre  \\\n",
              "0           0                mukesh  mohabbat bhi jhoothi          1950   pop   \n",
              "1           4         frankie laine             i believe          1950   pop   \n",
              "2           6           johnnie ray                   cry          1950   pop   \n",
              "3          10           pérez prado              patricia          1950   pop   \n",
              "4          12  giorgos papadopoulos    apopse eida oneiro          1950   pop   \n",
              "\n",
              "                                              lyrics year_interval  \\\n",
              "0  hold time feel break feel untrue convince spea...     1950-1960   \n",
              "1  believe drop rain fall grow believe darkest ni...     1950-1960   \n",
              "2  sweetheart send letter goodbye secret feel bet...     1950-1960   \n",
              "3  kiss lips want stroll charm mambo chacha merin...     1950-1960   \n",
              "4  till darling till matter know till dream live ...     1950-1960   \n",
              "\n",
              "  Sentiment predictions  \n",
              "0              positive  \n",
              "1              negative  \n",
              "2              positive  \n",
              "3              positive  \n",
              "4              positive  "
            ],
            "text/html": [
              "\n",
              "  <div id=\"df-2a09b376-3e48-420b-a965-2e7bb0fda2ab\">\n",
              "    <div class=\"colab-df-container\">\n",
              "      <div>\n",
              "<style scoped>\n",
              "    .dataframe tbody tr th:only-of-type {\n",
              "        vertical-align: middle;\n",
              "    }\n",
              "\n",
              "    .dataframe tbody tr th {\n",
              "        vertical-align: top;\n",
              "    }\n",
              "\n",
              "    .dataframe thead th {\n",
              "        text-align: right;\n",
              "    }\n",
              "</style>\n",
              "<table border=\"1\" class=\"dataframe\">\n",
              "  <thead>\n",
              "    <tr style=\"text-align: right;\">\n",
              "      <th></th>\n",
              "      <th>Unnamed: 0</th>\n",
              "      <th>artist_name</th>\n",
              "      <th>track_name</th>\n",
              "      <th>release_date</th>\n",
              "      <th>genre</th>\n",
              "      <th>lyrics</th>\n",
              "      <th>year_interval</th>\n",
              "      <th>Sentiment predictions</th>\n",
              "    </tr>\n",
              "  </thead>\n",
              "  <tbody>\n",
              "    <tr>\n",
              "      <th>0</th>\n",
              "      <td>0</td>\n",
              "      <td>mukesh</td>\n",
              "      <td>mohabbat bhi jhoothi</td>\n",
              "      <td>1950</td>\n",
              "      <td>pop</td>\n",
              "      <td>hold time feel break feel untrue convince spea...</td>\n",
              "      <td>1950-1960</td>\n",
              "      <td>positive</td>\n",
              "    </tr>\n",
              "    <tr>\n",
              "      <th>1</th>\n",
              "      <td>4</td>\n",
              "      <td>frankie laine</td>\n",
              "      <td>i believe</td>\n",
              "      <td>1950</td>\n",
              "      <td>pop</td>\n",
              "      <td>believe drop rain fall grow believe darkest ni...</td>\n",
              "      <td>1950-1960</td>\n",
              "      <td>negative</td>\n",
              "    </tr>\n",
              "    <tr>\n",
              "      <th>2</th>\n",
              "      <td>6</td>\n",
              "      <td>johnnie ray</td>\n",
              "      <td>cry</td>\n",
              "      <td>1950</td>\n",
              "      <td>pop</td>\n",
              "      <td>sweetheart send letter goodbye secret feel bet...</td>\n",
              "      <td>1950-1960</td>\n",
              "      <td>positive</td>\n",
              "    </tr>\n",
              "    <tr>\n",
              "      <th>3</th>\n",
              "      <td>10</td>\n",
              "      <td>pérez prado</td>\n",
              "      <td>patricia</td>\n",
              "      <td>1950</td>\n",
              "      <td>pop</td>\n",
              "      <td>kiss lips want stroll charm mambo chacha merin...</td>\n",
              "      <td>1950-1960</td>\n",
              "      <td>positive</td>\n",
              "    </tr>\n",
              "    <tr>\n",
              "      <th>4</th>\n",
              "      <td>12</td>\n",
              "      <td>giorgos papadopoulos</td>\n",
              "      <td>apopse eida oneiro</td>\n",
              "      <td>1950</td>\n",
              "      <td>pop</td>\n",
              "      <td>till darling till matter know till dream live ...</td>\n",
              "      <td>1950-1960</td>\n",
              "      <td>positive</td>\n",
              "    </tr>\n",
              "  </tbody>\n",
              "</table>\n",
              "</div>\n",
              "      <button class=\"colab-df-convert\" onclick=\"convertToInteractive('df-2a09b376-3e48-420b-a965-2e7bb0fda2ab')\"\n",
              "              title=\"Convert this dataframe to an interactive table.\"\n",
              "              style=\"display:none;\">\n",
              "        \n",
              "  <svg xmlns=\"http://www.w3.org/2000/svg\" height=\"24px\"viewBox=\"0 0 24 24\"\n",
              "       width=\"24px\">\n",
              "    <path d=\"M0 0h24v24H0V0z\" fill=\"none\"/>\n",
              "    <path d=\"M18.56 5.44l.94 2.06.94-2.06 2.06-.94-2.06-.94-.94-2.06-.94 2.06-2.06.94zm-11 1L8.5 8.5l.94-2.06 2.06-.94-2.06-.94L8.5 2.5l-.94 2.06-2.06.94zm10 10l.94 2.06.94-2.06 2.06-.94-2.06-.94-.94-2.06-.94 2.06-2.06.94z\"/><path d=\"M17.41 7.96l-1.37-1.37c-.4-.4-.92-.59-1.43-.59-.52 0-1.04.2-1.43.59L10.3 9.45l-7.72 7.72c-.78.78-.78 2.05 0 2.83L4 21.41c.39.39.9.59 1.41.59.51 0 1.02-.2 1.41-.59l7.78-7.78 2.81-2.81c.8-.78.8-2.07 0-2.86zM5.41 20L4 18.59l7.72-7.72 1.47 1.35L5.41 20z\"/>\n",
              "  </svg>\n",
              "      </button>\n",
              "      \n",
              "  <style>\n",
              "    .colab-df-container {\n",
              "      display:flex;\n",
              "      flex-wrap:wrap;\n",
              "      gap: 12px;\n",
              "    }\n",
              "\n",
              "    .colab-df-convert {\n",
              "      background-color: #E8F0FE;\n",
              "      border: none;\n",
              "      border-radius: 50%;\n",
              "      cursor: pointer;\n",
              "      display: none;\n",
              "      fill: #1967D2;\n",
              "      height: 32px;\n",
              "      padding: 0 0 0 0;\n",
              "      width: 32px;\n",
              "    }\n",
              "\n",
              "    .colab-df-convert:hover {\n",
              "      background-color: #E2EBFA;\n",
              "      box-shadow: 0px 1px 2px rgba(60, 64, 67, 0.3), 0px 1px 3px 1px rgba(60, 64, 67, 0.15);\n",
              "      fill: #174EA6;\n",
              "    }\n",
              "\n",
              "    [theme=dark] .colab-df-convert {\n",
              "      background-color: #3B4455;\n",
              "      fill: #D2E3FC;\n",
              "    }\n",
              "\n",
              "    [theme=dark] .colab-df-convert:hover {\n",
              "      background-color: #434B5C;\n",
              "      box-shadow: 0px 1px 3px 1px rgba(0, 0, 0, 0.15);\n",
              "      filter: drop-shadow(0px 1px 2px rgba(0, 0, 0, 0.3));\n",
              "      fill: #FFFFFF;\n",
              "    }\n",
              "  </style>\n",
              "\n",
              "      <script>\n",
              "        const buttonEl =\n",
              "          document.querySelector('#df-2a09b376-3e48-420b-a965-2e7bb0fda2ab button.colab-df-convert');\n",
              "        buttonEl.style.display =\n",
              "          google.colab.kernel.accessAllowed ? 'block' : 'none';\n",
              "\n",
              "        async function convertToInteractive(key) {\n",
              "          const element = document.querySelector('#df-2a09b376-3e48-420b-a965-2e7bb0fda2ab');\n",
              "          const dataTable =\n",
              "            await google.colab.kernel.invokeFunction('convertToInteractive',\n",
              "                                                     [key], {});\n",
              "          if (!dataTable) return;\n",
              "\n",
              "          const docLinkHtml = 'Like what you see? Visit the ' +\n",
              "            '<a target=\"_blank\" href=https://colab.research.google.com/notebooks/data_table.ipynb>data table notebook</a>'\n",
              "            + ' to learn more about interactive tables.';\n",
              "          element.innerHTML = '';\n",
              "          dataTable['output_type'] = 'display_data';\n",
              "          await google.colab.output.renderOutput(dataTable, element);\n",
              "          const docLink = document.createElement('div');\n",
              "          docLink.innerHTML = docLinkHtml;\n",
              "          element.appendChild(docLink);\n",
              "        }\n",
              "      </script>\n",
              "    </div>\n",
              "  </div>\n",
              "  "
            ]
          },
          "metadata": {},
          "execution_count": 20
        }
      ]
    },
    {
      "cell_type": "markdown",
      "source": [
        "## Visualizing the distribution of sentiment over the whole data set\n"
      ],
      "metadata": {
        "id": "kYGViytrsX0N"
      }
    },
    {
      "cell_type": "code",
      "source": [
        "prediction_counts = df['Sentiment predictions'].value_counts()\n",
        "print(prediction_counts)\n",
        "\n",
        "# pie chart\n",
        "y = np.array([16585,11210,577])\n",
        "labels_s = ['positive','negative','neutral']\n",
        "colors =  ['#99ff99','#ff9999','#66b3ff']\n",
        "myexplode = [0., 0., 0.]\n",
        "plt.pie(y, labels = labels_s, explode = myexplode, shadow = True, colors=colors,startangle=90,\n",
        "           autopct='%1.1f%%',wedgeprops=dict(width=.65))\n",
        "plt.title(\"Overall sentiment\")\n",
        "\n",
        "\n",
        "filename = 'pie-chart-sentiments'\n",
        "plt.tight_layout()\n",
        "plt.savefig(filename+'.pdf')\n",
        "plt.show()"
      ],
      "metadata": {
        "colab": {
          "base_uri": "https://localhost:8080/",
          "height": 366
        },
        "id": "jv3mQLP7edix",
        "outputId": "607a2caf-b1ac-4d8c-9005-8f26357e0b61"
      },
      "execution_count": 21,
      "outputs": [
        {
          "output_type": "stream",
          "name": "stdout",
          "text": [
            "positive    16585\n",
            "negative    11210\n",
            "neutral       577\n",
            "Name: Sentiment predictions, dtype: int64\n"
          ]
        },
        {
          "output_type": "display_data",
          "data": {
            "text/plain": [
              "<Figure size 432x288 with 1 Axes>"
            ],
            "image/png": "[encoded data removed]"
          },
          "metadata": {}
        }
      ]
    },
    {
      "cell_type": "markdown",
      "source": [
        "## Visualzing the sentiment distributions for the first and last decade"
      ],
      "metadata": {
        "id": "us_NUUUOsJWp"
      }
    },
    {
      "cell_type": "code",
      "source": [
        "\n",
        "year_intervals = ['1950-1960','1960-1970','1970-1980','1980-1990','1990-2000','2000-2010','2010-2019']\n",
        "\n",
        "posi = []\n",
        "nega = []\n",
        "neut = []\n",
        "for i in year_intervals:\n",
        "  mask = df.loc[df['year_interval']==i]\n",
        "  neg,neu,pos = (mask.groupby('Sentiment predictions').size()/mask['Sentiment predictions'].count())*100\n",
        "  posi.append(pos)\n",
        "  nega.append(neg)\n",
        "  neut.append(neu)\n",
        "\n",
        "\n"
      ],
      "metadata": {
        "colab": {
          "base_uri": "https://localhost:8080/"
        },
        "id": "cOGI7P_ZoxV2",
        "outputId": "d9c5b6e8-381d-4d8a-b0b0-7f4080019477"
      },
      "execution_count": 22,
      "outputs": [
        {
          "output_type": "stream",
          "name": "stdout",
          "text": [
            "[71.1825487944891, 65.01290507599656, 62.779941577409936, 57.88553953691569, 57.24932249322493, 54.256644518272424, 51.812775752925376]\n",
            "[26.80826636050517, 32.463435618009754, 35.00486854917234, 40.039318479685456, 40.966576332429995, 43.85382059800664, 46.3073086514483]\n",
            "[2.009184845005741, 2.5236593059936907, 2.2151898734177213, 2.075141983398864, 1.7841011743450768, 1.88953488372093, 1.8799155956263187]\n"
          ]
        }
      ]
    },
    {
      "cell_type": "code",
      "source": [
        "years_df = pd.DataFrame(index=year_intervals)\n",
        "years_df['postive_percentage'] = posi\n",
        "years_df['neutral_percentage'] = neut\n",
        "years_df['negative_percentage'] = nega\n",
        "years_df.head()"
      ],
      "metadata": {
        "colab": {
          "base_uri": "https://localhost:8080/",
          "height": 206
        },
        "id": "yESA1U90rEoJ",
        "outputId": "270ec571-45de-441e-ab21-80ff90ef1938"
      },
      "execution_count": 23,
      "outputs": [
        {
          "output_type": "execute_result",
          "data": {
            "text/plain": [
              "           postive_percentage  neutral_percentage  negative_percentage\n",
              "1950-1960           71.182549            2.009185            26.808266\n",
              "1960-1970           65.012905            2.523659            32.463436\n",
              "1970-1980           62.779942            2.215190            35.004869\n",
              "1980-1990           57.885540            2.075142            40.039318\n",
              "1990-2000           57.249322            1.784101            40.966576"
            ],
            "text/html": [
              "\n",
              "  <div id=\"df-69f65e3b-10c9-4e28-8eec-84a8c0a9c829\">\n",
              "    <div class=\"colab-df-container\">\n",
              "      <div>\n",
              "<style scoped>\n",
              "    .dataframe tbody tr th:only-of-type {\n",
              "        vertical-align: middle;\n",
              "    }\n",
              "\n",
              "    .dataframe tbody tr th {\n",
              "        vertical-align: top;\n",
              "    }\n",
              "\n",
              "    .dataframe thead th {\n",
              "        text-align: right;\n",
              "    }\n",
              "</style>\n",
              "<table border=\"1\" class=\"dataframe\">\n",
              "  <thead>\n",
              "    <tr style=\"text-align: right;\">\n",
              "      <th></th>\n",
              "      <th>postive_percentage</th>\n",
              "      <th>neutral_percentage</th>\n",
              "      <th>negative_percentage</th>\n",
              "    </tr>\n",
              "  </thead>\n",
              "  <tbody>\n",
              "    <tr>\n",
              "      <th>1950-1960</th>\n",
              "      <td>71.182549</td>\n",
              "      <td>2.009185</td>\n",
              "      <td>26.808266</td>\n",
              "    </tr>\n",
              "    <tr>\n",
              "      <th>1960-1970</th>\n",
              "      <td>65.012905</td>\n",
              "      <td>2.523659</td>\n",
              "      <td>32.463436</td>\n",
              "    </tr>\n",
              "    <tr>\n",
              "      <th>1970-1980</th>\n",
              "      <td>62.779942</td>\n",
              "      <td>2.215190</td>\n",
              "      <td>35.004869</td>\n",
              "    </tr>\n",
              "    <tr>\n",
              "      <th>1980-1990</th>\n",
              "      <td>57.885540</td>\n",
              "      <td>2.075142</td>\n",
              "      <td>40.039318</td>\n",
              "    </tr>\n",
              "    <tr>\n",
              "      <th>1990-2000</th>\n",
              "      <td>57.249322</td>\n",
              "      <td>1.784101</td>\n",
              "      <td>40.966576</td>\n",
              "    </tr>\n",
              "  </tbody>\n",
              "</table>\n",
              "</div>\n",
              "      <button class=\"colab-df-convert\" onclick=\"convertToInteractive('df-69f65e3b-10c9-4e28-8eec-84a8c0a9c829')\"\n",
              "              title=\"Convert this dataframe to an interactive table.\"\n",
              "              style=\"display:none;\">\n",
              "        \n",
              "  <svg xmlns=\"http://www.w3.org/2000/svg\" height=\"24px\"viewBox=\"0 0 24 24\"\n",
              "       width=\"24px\">\n",
              "    <path d=\"M0 0h24v24H0V0z\" fill=\"none\"/>\n",
              "    <path d=\"M18.56 5.44l.94 2.06.94-2.06 2.06-.94-2.06-.94-.94-2.06-.94 2.06-2.06.94zm-11 1L8.5 8.5l.94-2.06 2.06-.94-2.06-.94L8.5 2.5l-.94 2.06-2.06.94zm10 10l.94 2.06.94-2.06 2.06-.94-2.06-.94-.94-2.06-.94 2.06-2.06.94z\"/><path d=\"M17.41 7.96l-1.37-1.37c-.4-.4-.92-.59-1.43-.59-.52 0-1.04.2-1.43.59L10.3 9.45l-7.72 7.72c-.78.78-.78 2.05 0 2.83L4 21.41c.39.39.9.59 1.41.59.51 0 1.02-.2 1.41-.59l7.78-7.78 2.81-2.81c.8-.78.8-2.07 0-2.86zM5.41 20L4 18.59l7.72-7.72 1.47 1.35L5.41 20z\"/>\n",
              "  </svg>\n",
              "      </button>\n",
              "      \n",
              "  <style>\n",
              "    .colab-df-container {\n",
              "      display:flex;\n",
              "      flex-wrap:wrap;\n",
              "      gap: 12px;\n",
              "    }\n",
              "\n",
              "    .colab-df-convert {\n",
              "      background-color: #E8F0FE;\n",
              "      border: none;\n",
              "      border-radius: 50%;\n",
              "      cursor: pointer;\n",
              "      display: none;\n",
              "      fill: #1967D2;\n",
              "      height: 32px;\n",
              "      padding: 0 0 0 0;\n",
              "      width: 32px;\n",
              "    }\n",
              "\n",
              "    .colab-df-convert:hover {\n",
              "      background-color: #E2EBFA;\n",
              "      box-shadow: 0px 1px 2px rgba(60, 64, 67, 0.3), 0px 1px 3px 1px rgba(60, 64, 67, 0.15);\n",
              "      fill: #174EA6;\n",
              "    }\n",
              "\n",
              "    [theme=dark] .colab-df-convert {\n",
              "      background-color: #3B4455;\n",
              "      fill: #D2E3FC;\n",
              "    }\n",
              "\n",
              "    [theme=dark] .colab-df-convert:hover {\n",
              "      background-color: #434B5C;\n",
              "      box-shadow: 0px 1px 3px 1px rgba(0, 0, 0, 0.15);\n",
              "      filter: drop-shadow(0px 1px 2px rgba(0, 0, 0, 0.3));\n",
              "      fill: #FFFFFF;\n",
              "    }\n",
              "  </style>\n",
              "\n",
              "      <script>\n",
              "        const buttonEl =\n",
              "          document.querySelector('#df-69f65e3b-10c9-4e28-8eec-84a8c0a9c829 button.colab-df-convert');\n",
              "        buttonEl.style.display =\n",
              "          google.colab.kernel.accessAllowed ? 'block' : 'none';\n",
              "\n",
              "        async function convertToInteractive(key) {\n",
              "          const element = document.querySelector('#df-69f65e3b-10c9-4e28-8eec-84a8c0a9c829');\n",
              "          const dataTable =\n",
              "            await google.colab.kernel.invokeFunction('convertToInteractive',\n",
              "                                                     [key], {});\n",
              "          if (!dataTable) return;\n",
              "\n",
              "          const docLinkHtml = 'Like what you see? Visit the ' +\n",
              "            '<a target=\"_blank\" href=https://colab.research.google.com/notebooks/data_table.ipynb>data table notebook</a>'\n",
              "            + ' to learn more about interactive tables.';\n",
              "          element.innerHTML = '';\n",
              "          dataTable['output_type'] = 'display_data';\n",
              "          await google.colab.output.renderOutput(dataTable, element);\n",
              "          const docLink = document.createElement('div');\n",
              "          docLink.innerHTML = docLinkHtml;\n",
              "          element.appendChild(docLink);\n",
              "        }\n",
              "      </script>\n",
              "    </div>\n",
              "  </div>\n",
              "  "
            ]
          },
          "metadata": {},
          "execution_count": 23
        }
      ]
    },
    {
      "cell_type": "code",
      "source": [
        "\n",
        "mask = df.loc[df['year_interval']=='1950-1960']\n",
        "prediction_counts_mask = mask['Sentiment predictions'].value_counts()\n",
        "print(prediction_counts_mask)\n",
        "# pie chart\n",
        "y = np.array([1240,467,35])\n",
        "labels_s = ['positive','negative','neutral']\n",
        "colors =  ['#99ff99','#ff9999','#66b3ff']\n",
        "myexplode = [0., 0., 0.]\n",
        "plt.pie(y, labels = labels_s, explode = myexplode, shadow = True, colors=colors,startangle=90,\n",
        "           autopct='%1.1f%%',wedgeprops=dict(width=.65))\n",
        "plt.title(\"Overall sentiment\")\n",
        "\n",
        "\n",
        "filename = 'pie-chart-sentiments-first-decade'\n",
        "plt.tight_layout()\n",
        "plt.savefig(filename+'.pdf')\n",
        "plt.show()"
      ],
      "metadata": {
        "colab": {
          "base_uri": "https://localhost:8080/",
          "height": 366
        },
        "id": "h8x__1ySRtaj",
        "outputId": "bfb94225-0e02-4240-da75-578031de4937"
      },
      "execution_count": 24,
      "outputs": [
        {
          "output_type": "stream",
          "name": "stdout",
          "text": [
            "positive    1240\n",
            "negative     467\n",
            "neutral       35\n",
            "Name: Sentiment predictions, dtype: int64\n"
          ]
        },
        {
          "output_type": "display_data",
          "data": {
            "text/plain": [
              "<Figure size 432x288 with 1 Axes>"
            ],
            "image/png": "[encoded data removed]"
          },
          "metadata": {}
        }
      ]
    },
    {
      "cell_type": "code",
      "source": [
        "mask2 = df.loc[df['year_interval']=='2010-2019']\n",
        "prediction_counts_mask2 = mask2['Sentiment predictions'].value_counts()\n",
        "print(prediction_counts_mask2)\n",
        "# pie chart\n",
        "y = np.array([2701,2414,98])\n",
        "labels_s = ['positive','negative','neutral']\n",
        "colors =  ['#99ff99','#ff9999','#66b3ff']\n",
        "myexplode = [0., 0., 0.]\n",
        "plt.pie(y, labels = labels_s, explode = myexplode, shadow = True, colors=colors,startangle=90,\n",
        "           autopct='%1.1f%%',wedgeprops=dict(width=.65))\n",
        "plt.title(\"Overall sentiment\")\n",
        "\n",
        "\n",
        "filename = 'pie-chart-sentiments-last-decade'\n",
        "plt.tight_layout()\n",
        "plt.savefig(filename+'.pdf')\n",
        "plt.show()"
      ],
      "metadata": {
        "colab": {
          "base_uri": "https://localhost:8080/",
          "height": 366
        },
        "id": "9BCFrJyrSMIr",
        "outputId": "22cf8a80-faaa-45de-c889-15bf6f337f91"
      },
      "execution_count": 25,
      "outputs": [
        {
          "output_type": "stream",
          "name": "stdout",
          "text": [
            "positive    2701\n",
            "negative    2414\n",
            "neutral       98\n",
            "Name: Sentiment predictions, dtype: int64\n"
          ]
        },
        {
          "output_type": "display_data",
          "data": {
            "text/plain": [
              "<Figure size 432x288 with 1 Axes>"
            ],
            "image/png": "[encoded data removed]"
          },
          "metadata": {}
        }
      ]
    },
    {
      "cell_type": "markdown",
      "source": [
        "## Visualizing the overall trend of sentiment per 10 year."
      ],
      "metadata": {
        "id": "O6byWJ6Br6qN"
      }
    },
    {
      "cell_type": "code",
      "source": [
        "#!pip install -U kaleido"
      ],
      "metadata": {
        "id": "IMpCR-kY_ikm"
      },
      "execution_count": 26,
      "outputs": []
    },
    {
      "cell_type": "code",
      "source": [
        "import plotly.graph_objects as go\n",
        "import plotly.express as px\n",
        "import plotly.io as pio\n",
        "\n",
        "fig = go.Figure([go.Scatter(x=years_df.index, y=years_df['postive_percentage'],name=\"Positive\")])\n",
        "fig.add_trace( go.Scatter(x=years_df.index, y=years_df['negative_percentage'],name=\"Negative\"))\n",
        "fig.add_trace( go.Scatter(x=years_df.index, y=years_df['neutral_percentage'],name=\"Neutral\"))\n",
        "\n",
        "fig.update_layout(\n",
        "    margin=dict(l=20, r=20, t=50, b=20),\n",
        "    title=\"Sentiment percentage over time\",\n",
        "    xaxis_title=\"Decade\",\n",
        "    yaxis_title=\"Relative percentage of total sentiment\",\n",
        "    legend_title=\"Sentiments\",\n",
        "    title_x=0.45,\n",
        "    font=dict(\n",
        "        family=\"Arial\",\n",
        "        size=14,\n",
        "    ),\n",
        "    width=800,\n",
        "    height=450\n",
        ")\n",
        "pio.write_image(fig, 'fig2.pdf')\n",
        "#fig.write_image(\"plotly.svg\")\n",
        "fig.show()"
      ],
      "metadata": {
        "colab": {
          "base_uri": "https://localhost:8080/",
          "height": 467
        },
        "id": "H0N3iA661p_g",
        "outputId": "ad1c878f-2bac-48bf-be52-6ca2ac75c2c5"
      },
      "execution_count": 40,
      "outputs": [
        {
          "output_type": "display_data",
          "data": {
            "text/html": [
              "<html>\n",
              "<head><meta charset=\"utf-8\" /></head>\n",
              "<body>\n",
              "    <div>            <script src=\"https://cdnjs.cloudflare.com/ajax/libs/mathjax/2.7.5/MathJax.js?config=TeX-AMS-MML_SVG\"></script><script type=\"text/javascript\">if (window.MathJax) {MathJax.Hub.Config({SVG: {font: \"STIX-Web\"}});}</script>                <script type=\"text/javascript\">window.PlotlyConfig = {MathJaxConfig: 'local'};</script>\n",
              "        <script src=\"https://cdn.plot.ly/plotly-2.8.3.min.js\"></script>                <div id=\"1889ae54-9487-4761-8a90-64aa6c7d8077\" class=\"plotly-graph-div\" style=\"height:450px; width:800px;\"></div>            <script type=\"text/javascript\">                                    window.PLOTLYENV=window.PLOTLYENV || {};                                    if (document.getElementById(\"1889ae54-9487-4761-8a90-64aa6c7d8077\")) {                    Plotly.newPlot(                        \"1889ae54-9487-4761-8a90-64aa6c7d8077\",                        [{\"name\":\"Positive\",\"x\":[\"1950-1960\",\"1960-1970\",\"1970-1980\",\"1980-1990\",\"1990-2000\",\"2000-2010\",\"2010-2019\"],\"y\":[71.1825487944891,65.01290507599656,62.779941577409936,57.88553953691569,57.24932249322493,54.256644518272424,51.812775752925376],\"type\":\"scatter\"},{\"name\":\"Negative\",\"x\":[\"1950-1960\",\"1960-1970\",\"1970-1980\",\"1980-1990\",\"1990-2000\",\"2000-2010\",\"2010-2019\"],\"y\":[26.80826636050517,32.463435618009754,35.00486854917234,40.039318479685456,40.966576332429995,43.85382059800664,46.3073086514483],\"type\":\"scatter\"},{\"name\":\"Neutral\",\"x\":[\"1950-1960\",\"1960-1970\",\"1970-1980\",\"1980-1990\",\"1990-2000\",\"2000-2010\",\"2010-2019\"],\"y\":[2.009184845005741,2.5236593059936907,2.2151898734177213,2.075141983398864,1.7841011743450768,1.88953488372093,1.8799155956263187],\"type\":\"scatter\"}],                        {\"template\":{\"data\":{\"bar\":[{\"error_x\":{\"color\":\"#2a3f5f\"},\"error_y\":{\"color\":\"#2a3f5f\"},\"marker\":{\"line\":{\"color\":\"#E5ECF6\",\"width\":0.5},\"pattern\":{\"fillmode\":\"overlay\",\"size\":10,\"solidity\":0.2}},\"type\":\"bar\"}],\"barpolar\":[{\"marker\":{\"line\":{\"color\":\"#E5ECF6\",\"width\":0.5},\"pattern\":{\"fillmode\":\"overlay\",\"size\":10,\"solidity\":0.2}},\"type\":\"barpolar\"}],\"carpet\":[{\"aaxis\":{\"endlinecolor\":\"#2a3f5f\",\"gridcolor\":\"white\",\"linecolor\":\"white\",\"minorgridcolor\":\"white\",\"startlinecolor\":\"#2a3f5f\"},\"baxis\":{\"endlinecolor\":\"#2a3f5f\",\"gridcolor\":\"white\",\"linecolor\":\"white\",\"minorgridcolor\":\"white\",\"startlinecolor\":\"#2a3f5f\"},\"type\":\"carpet\"}],\"choropleth\":[{\"colorbar\":{\"outlinewidth\":0,\"ticks\":\"\"},\"type\":\"choropleth\"}],\"contour\":[{\"colorbar\":{\"outlinewidth\":0,\"ticks\":\"\"},\"colorscale\":[[0.0,\"#0d0887\"],[0.1111111111111111,\"#46039f\"],[0.2222222222222222,\"#7201a8\"],[0.3333333333333333,\"#9c179e\"],[0.4444444444444444,\"#bd3786\"],[0.5555555555555556,\"#d8576b\"],[0.6666666666666666,\"#ed7953\"],[0.7777777777777778,\"#fb9f3a\"],[0.8888888888888888,\"#fdca26\"],[1.0,\"#f0f921\"]],\"type\":\"contour\"}],\"contourcarpet\":[{\"colorbar\":{\"outlinewidth\":0,\"ticks\":\"\"},\"type\":\"contourcarpet\"}],\"heatmap\":[{\"colorbar\":{\"outlinewidth\":0,\"ticks\":\"\"},\"colorscale\":[[0.0,\"#0d0887\"],[0.1111111111111111,\"#46039f\"],[0.2222222222222222,\"#7201a8\"],[0.3333333333333333,\"#9c179e\"],[0.4444444444444444,\"#bd3786\"],[0.5555555555555556,\"#d8576b\"],[0.6666666666666666,\"#ed7953\"],[0.7777777777777778,\"#fb9f3a\"],[0.8888888888888888,\"#fdca26\"],[1.0,\"#f0f921\"]],\"type\":\"heatmap\"}],\"heatmapgl\":[{\"colorbar\":{\"outlinewidth\":0,\"ticks\":\"\"},\"colorscale\":[[0.0,\"#0d0887\"],[0.1111111111111111,\"#46039f\"],[0.2222222222222222,\"#7201a8\"],[0.3333333333333333,\"#9c179e\"],[0.4444444444444444,\"#bd3786\"],[0.5555555555555556,\"#d8576b\"],[0.6666666666666666,\"#ed7953\"],[0.7777777777777778,\"#fb9f3a\"],[0.8888888888888888,\"#fdca26\"],[1.0,\"#f0f921\"]],\"type\":\"heatmapgl\"}],\"histogram\":[{\"marker\":{\"pattern\":{\"fillmode\":\"overlay\",\"size\":10,\"solidity\":0.2}},\"type\":\"histogram\"}],\"histogram2d\":[{\"colorbar\":{\"outlinewidth\":0,\"ticks\":\"\"},\"colorscale\":[[0.0,\"#0d0887\"],[0.1111111111111111,\"#46039f\"],[0.2222222222222222,\"#7201a8\"],[0.3333333333333333,\"#9c179e\"],[0.4444444444444444,\"#bd3786\"],[0.5555555555555556,\"#d8576b\"],[0.6666666666666666,\"#ed7953\"],[0.7777777777777778,\"#fb9f3a\"],[0.8888888888888888,\"#fdca26\"],[1.0,\"#f0f921\"]],\"type\":\"histogram2d\"}],\"histogram2dcontour\":[{\"colorbar\":{\"outlinewidth\":0,\"ticks\":\"\"},\"colorscale\":[[0.0,\"#0d0887\"],[0.1111111111111111,\"#46039f\"],[0.2222222222222222,\"#7201a8\"],[0.3333333333333333,\"#9c179e\"],[0.4444444444444444,\"#bd3786\"],[0.5555555555555556,\"#d8576b\"],[0.6666666666666666,\"#ed7953\"],[0.7777777777777778,\"#fb9f3a\"],[0.8888888888888888,\"#fdca26\"],[1.0,\"#f0f921\"]],\"type\":\"histogram2dcontour\"}],\"mesh3d\":[{\"colorbar\":{\"outlinewidth\":0,\"ticks\":\"\"},\"type\":\"mesh3d\"}],\"parcoords\":[{\"line\":{\"colorbar\":{\"outlinewidth\":0,\"ticks\":\"\"}},\"type\":\"parcoords\"}],\"pie\":[{\"automargin\":true,\"type\":\"pie\"}],\"scatter\":[{\"marker\":{\"colorbar\":{\"outlinewidth\":0,\"ticks\":\"\"}},\"type\":\"scatter\"}],\"scatter3d\":[{\"line\":{\"colorbar\":{\"outlinewidth\":0,\"ticks\":\"\"}},\"marker\":{\"colorbar\":{\"outlinewidth\":0,\"ticks\":\"\"}},\"type\":\"scatter3d\"}],\"scattercarpet\":[{\"marker\":{\"colorbar\":{\"outlinewidth\":0,\"ticks\":\"\"}},\"type\":\"scattercarpet\"}],\"scattergeo\":[{\"marker\":{\"colorbar\":{\"outlinewidth\":0,\"ticks\":\"\"}},\"type\":\"scattergeo\"}],\"scattergl\":[{\"marker\":{\"colorbar\":{\"outlinewidth\":0,\"ticks\":\"\"}},\"type\":\"scattergl\"}],\"scattermapbox\":[{\"marker\":{\"colorbar\":{\"outlinewidth\":0,\"ticks\":\"\"}},\"type\":\"scattermapbox\"}],\"scatterpolar\":[{\"marker\":{\"colorbar\":{\"outlinewidth\":0,\"ticks\":\"\"}},\"type\":\"scatterpolar\"}],\"scatterpolargl\":[{\"marker\":{\"colorbar\":{\"outlinewidth\":0,\"ticks\":\"\"}},\"type\":\"scatterpolargl\"}],\"scatterternary\":[{\"marker\":{\"colorbar\":{\"outlinewidth\":0,\"ticks\":\"\"}},\"type\":\"scatterternary\"}],\"surface\":[{\"colorbar\":{\"outlinewidth\":0,\"ticks\":\"\"},\"colorscale\":[[0.0,\"#0d0887\"],[0.1111111111111111,\"#46039f\"],[0.2222222222222222,\"#7201a8\"],[0.3333333333333333,\"#9c179e\"],[0.4444444444444444,\"#bd3786\"],[0.5555555555555556,\"#d8576b\"],[0.6666666666666666,\"#ed7953\"],[0.7777777777777778,\"#fb9f3a\"],[0.8888888888888888,\"#fdca26\"],[1.0,\"#f0f921\"]],\"type\":\"surface\"}],\"table\":[{\"cells\":{\"fill\":{\"color\":\"#EBF0F8\"},\"line\":{\"color\":\"white\"}},\"header\":{\"fill\":{\"color\":\"#C8D4E3\"},\"line\":{\"color\":\"white\"}},\"type\":\"table\"}]},\"layout\":{\"annotationdefaults\":{\"arrowcolor\":\"#2a3f5f\",\"arrowhead\":0,\"arrowwidth\":1},\"autotypenumbers\":\"strict\",\"coloraxis\":{\"colorbar\":{\"outlinewidth\":0,\"ticks\":\"\"}},\"colorscale\":{\"diverging\":[[0,\"#8e0152\"],[0.1,\"#c51b7d\"],[0.2,\"#de77ae\"],[0.3,\"#f1b6da\"],[0.4,\"#fde0ef\"],[0.5,\"#f7f7f7\"],[0.6,\"#e6f5d0\"],[0.7,\"#b8e186\"],[0.8,\"#7fbc41\"],[0.9,\"#4d9221\"],[1,\"#276419\"]],\"sequential\":[[0.0,\"#0d0887\"],[0.1111111111111111,\"#46039f\"],[0.2222222222222222,\"#7201a8\"],[0.3333333333333333,\"#9c179e\"],[0.4444444444444444,\"#bd3786\"],[0.5555555555555556,\"#d8576b\"],[0.6666666666666666,\"#ed7953\"],[0.7777777777777778,\"#fb9f3a\"],[0.8888888888888888,\"#fdca26\"],[1.0,\"#f0f921\"]],\"sequentialminus\":[[0.0,\"#0d0887\"],[0.1111111111111111,\"#46039f\"],[0.2222222222222222,\"#7201a8\"],[0.3333333333333333,\"#9c179e\"],[0.4444444444444444,\"#bd3786\"],[0.5555555555555556,\"#d8576b\"],[0.6666666666666666,\"#ed7953\"],[0.7777777777777778,\"#fb9f3a\"],[0.8888888888888888,\"#fdca26\"],[1.0,\"#f0f921\"]]},\"colorway\":[\"#636efa\",\"#EF553B\",\"#00cc96\",\"#ab63fa\",\"#FFA15A\",\"#19d3f3\",\"#FF6692\",\"#B6E880\",\"#FF97FF\",\"#FECB52\"],\"font\":{\"color\":\"#2a3f5f\"},\"geo\":{\"bgcolor\":\"white\",\"lakecolor\":\"white\",\"landcolor\":\"#E5ECF6\",\"showlakes\":true,\"showland\":true,\"subunitcolor\":\"white\"},\"hoverlabel\":{\"align\":\"left\"},\"hovermode\":\"closest\",\"mapbox\":{\"style\":\"light\"},\"paper_bgcolor\":\"white\",\"plot_bgcolor\":\"#E5ECF6\",\"polar\":{\"angularaxis\":{\"gridcolor\":\"white\",\"linecolor\":\"white\",\"ticks\":\"\"},\"bgcolor\":\"#E5ECF6\",\"radialaxis\":{\"gridcolor\":\"white\",\"linecolor\":\"white\",\"ticks\":\"\"}},\"scene\":{\"xaxis\":{\"backgroundcolor\":\"#E5ECF6\",\"gridcolor\":\"white\",\"gridwidth\":2,\"linecolor\":\"white\",\"showbackground\":true,\"ticks\":\"\",\"zerolinecolor\":\"white\"},\"yaxis\":{\"backgroundcolor\":\"#E5ECF6\",\"gridcolor\":\"white\",\"gridwidth\":2,\"linecolor\":\"white\",\"showbackground\":true,\"ticks\":\"\",\"zerolinecolor\":\"white\"},\"zaxis\":{\"backgroundcolor\":\"#E5ECF6\",\"gridcolor\":\"white\",\"gridwidth\":2,\"linecolor\":\"white\",\"showbackground\":true,\"ticks\":\"\",\"zerolinecolor\":\"white\"}},\"shapedefaults\":{\"line\":{\"color\":\"#2a3f5f\"}},\"ternary\":{\"aaxis\":{\"gridcolor\":\"white\",\"linecolor\":\"white\",\"ticks\":\"\"},\"baxis\":{\"gridcolor\":\"white\",\"linecolor\":\"white\",\"ticks\":\"\"},\"bgcolor\":\"#E5ECF6\",\"caxis\":{\"gridcolor\":\"white\",\"linecolor\":\"white\",\"ticks\":\"\"}},\"title\":{\"x\":0.05},\"xaxis\":{\"automargin\":true,\"gridcolor\":\"white\",\"linecolor\":\"white\",\"ticks\":\"\",\"title\":{\"standoff\":15},\"zerolinecolor\":\"white\",\"zerolinewidth\":2},\"yaxis\":{\"automargin\":true,\"gridcolor\":\"white\",\"linecolor\":\"white\",\"ticks\":\"\",\"title\":{\"standoff\":15},\"zerolinecolor\":\"white\",\"zerolinewidth\":2}}},\"margin\":{\"l\":20,\"r\":20,\"t\":50,\"b\":20},\"title\":{\"text\":\"Sentiment percentage over time\",\"x\":0.45},\"font\":{\"family\":\"Arial\",\"size\":14},\"xaxis\":{\"title\":{\"text\":\"Decade\"}},\"yaxis\":{\"title\":{\"text\":\"Relative percentage of total sentiment\"}},\"legend\":{\"title\":{\"text\":\"Sentiments\"}},\"width\":800,\"height\":450},                        {\"responsive\": true}                    ).then(function(){\n",
              "                            \n",
              "var gd = document.getElementById('1889ae54-9487-4761-8a90-64aa6c7d8077');\n",
              "var x = new MutationObserver(function (mutations, observer) {{\n",
              "        var display = window.getComputedStyle(gd).display;\n",
              "        if (!display || display === 'none') {{\n",
              "            console.log([gd, 'removed!']);\n",
              "            Plotly.purge(gd);\n",
              "            observer.disconnect();\n",
              "        }}\n",
              "}});\n",
              "\n",
              "// Listen for the removal of the full notebook cells\n",
              "var notebookContainer = gd.closest('#notebook-container');\n",
              "if (notebookContainer) {{\n",
              "    x.observe(notebookContainer, {childList: true});\n",
              "}}\n",
              "\n",
              "// Listen for the clearing of the current output cell\n",
              "var outputEl = gd.closest('.output');\n",
              "if (outputEl) {{\n",
              "    x.observe(outputEl, {childList: true});\n",
              "}}\n",
              "\n",
              "                        })                };                            </script>        </div>\n",
              "</body>\n",
              "</html>"
            ]
          },
          "metadata": {}
        }
      ]
    },
    {
      "cell_type": "markdown",
      "source": [
        "## Sentiment portion visualization for every genre"
      ],
      "metadata": {
        "id": "Po_x-4o5rySt"
      }
    },
    {
      "cell_type": "code",
      "source": [
        "genres = df['genre'].unique()\n",
        "\n",
        "posi_g = []\n",
        "nega_g = []\n",
        "neut_g = []\n",
        "for i in genres:\n",
        "  mask = df.loc[df['genre']==i]\n",
        "\n",
        "  neg,neu,pos = (mask.groupby('Sentiment predictions').size()/mask['Sentiment predictions'].count())*100\n",
        "  posi_g.append(pos)\n",
        "  nega_g.append(neg)\n",
        "  neut_g.append(neu)\n",
        "\n",
        "\n",
        "print(posi_g)\n",
        "print(nega_g)\n",
        "print(neut_g)"
      ],
      "metadata": {
        "colab": {
          "base_uri": "https://localhost:8080/"
        },
        "id": "NNDvfJbsERpe",
        "outputId": "037f7c04-9d82-46e4-de58-56a356357ce9"
      },
      "execution_count": 28,
      "outputs": [
        {
          "output_type": "stream",
          "name": "stdout",
          "text": [
            "[60.76398750355013, 64.51790633608815, 57.34144222415291, 62.158647594278285, 55.16413130504404, 50.371839365394145, 39.048672566371685]\n",
            "[37.80176086339108, 33.81083562901745, 39.856646394439615, 34.79843953185956, 43.15452361889512, 47.52107089737233, 59.623893805309734]\n",
            "[1.43425163305879, 1.6712580348943986, 2.801911381407472, 3.042912873862159, 1.6813450760608486, 2.107089737233515, 1.3274336283185841]\n"
          ]
        }
      ]
    },
    {
      "cell_type": "code",
      "source": [
        "genres_df = pd.DataFrame(index=df['genre'].unique())\n",
        "genres_df['postive_percentage'] = posi_g\n",
        "genres_df['neutral_percentage'] = neut_g\n",
        "genres_df['negative_percentage'] = nega_g\n",
        "genres_df.head()\n",
        "colors_b =  ['#99ff99','#66b3ff','#ff9999']\n",
        "genres_df.plot(kind='barh',figsize=(15,8),stacked=True,color=colors_b)\n",
        "plt.title(\"Sentiment distribution over the genres\", fontsize = 20)\n",
        "plt.xlabel(\"Percentage\",fontsize = 15)\n",
        "plt.ylabel(\"Genre\",fontsize = 15)\n",
        "plt.tight_layout()\n",
        "plt.savefig(\"bar_dist_sen_genre.pdf\")\n",
        "plt.show()"
      ],
      "metadata": {
        "colab": {
          "base_uri": "https://localhost:8080/",
          "height": 585
        },
        "id": "BdFKjVEcFgpL",
        "outputId": "3dde8fac-bcea-450d-e711-20822b63957c"
      },
      "execution_count": 29,
      "outputs": [
        {
          "output_type": "display_data",
          "data": {
            "text/plain": [
              "<Figure size 1080x576 with 1 Axes>"
            ],
            "image/png": "[encoded data removed]"
          },
          "metadata": {
            "needs_background": "light"
          }
        }
      ]
    },
    {
      "cell_type": "markdown",
      "source": [
        "## Sentiment changes per year and superimposing the world events on the sentiment trends"
      ],
      "metadata": {
        "id": "6NZnsB0wrmpn"
      }
    },
    {
      "cell_type": "code",
      "source": [
        "years = df['release_date'].unique()\n",
        "posi_y = []\n",
        "nega_y = []\n",
        "for i in years:\n",
        "  mask = df.loc[df['release_date']==i]\n",
        "  try:\n",
        "    neg,_,pos = (mask.groupby('Sentiment predictions').size()/mask['Sentiment predictions'].count())*100\n",
        "  except:\n",
        "    neg,pos = (mask.groupby('Sentiment predictions').size()/mask['Sentiment predictions'].count())*100\n",
        "\n",
        "    \n",
        "\n",
        "  posi_y.append(pos)\n",
        "  nega_y.append(neg)\n"
      ],
      "metadata": {
        "id": "F3QjPhfBpXcy",
        "colab": {
          "base_uri": "https://localhost:8080/"
        },
        "outputId": "d428d283-714d-4bb3-e6fc-9addeb805320"
      },
      "execution_count": 30,
      "outputs": [
        {
          "output_type": "stream",
          "name": "stdout",
          "text": [
            "[80.3921568627451, 68.96551724137932, 71.66666666666667, 75.0, 72.47706422018348, 75.47169811320755, 76.0, 67.51054852320675, 73.17073170731707, 71.47435897435898, 64.23357664233576, 66.05166051660517, 68.28478964401295, 66.39566395663957, 62.92428198433421, 64.32584269662921, 68.80466472303208, 62.944162436548226, 67.0103092783505, 61.49068322981367, 62.5, 61.43250688705234, 66.189111747851, 62.755102040816325, 71.8232044198895, 63.14496314496314, 62.64044943820225, 64.7196261682243, 60.130718954248366, 57.14285714285714, 60.90373280943025, 58.84615384615385, 54.67775467775468, 54.372623574144484, 54.315789473684205, 59.95085995085995, 63.146551724137936, 58.85057471264368, 59.95260663507109, 60.550458715596335, 55.09708737864077, 58.25049701789264, 57.874015748031496, 58.76288659793815, 56.55913978494623, 52.72727272727272, 58.009708737864074, 55.831265508684865, 55.33980582524271, 59.32203389830508, 58.7467362924282, 54.077253218884124, 53.747323340471084, 56.17021276595745, 52.19206680584551, 54.090909090909086, 57.874762808349146, 55.84415584415584, 54.08163265306123, 52.26130653266332, 52.15311004784689, 54.80225988700565, 53.91156462585034, 55.714285714285715, 54.56238361266295, 49.59481361426256, 49.530956848030016, 52.121212121212125, 45.94180704441042, 51.31086142322098]\n",
            "[17.647058823529413, 31.03448275862069, 28.333333333333332, 25.0, 25.688073394495415, 21.69811320754717, 22.0, 31.645569620253166, 24.041811846689896, 26.282051282051285, 32.846715328467155, 32.10332103321033, 29.773462783171524, 32.52032520325203, 34.20365535248042, 33.70786516853933, 27.405247813411076, 33.756345177664976, 30.15463917525773, 35.40372670807454, 35.22727272727273, 34.9862258953168, 31.51862464183381, 35.204081632653065, 27.071823204419886, 34.15233415233415, 35.674157303370784, 33.41121495327103, 38.12636165577342, 39.958592132505174, 36.93516699410609, 38.46153846153847, 44.07484407484408, 43.72623574144487, 44.21052631578947, 37.59213759213759, 34.69827586206897, 38.39080459770115, 37.91469194312796, 37.61467889908257, 42.71844660194174, 39.165009940357855, 40.354330708661415, 39.58762886597938, 41.935483870967744, 44.935064935064936, 41.262135922330096, 41.43920595533499, 41.99029126213592, 40.25423728813559, 39.686684073107045, 44.4206008583691, 44.96788008565311, 41.91489361702128, 46.13778705636743, 44.31818181818182, 40.60721062618596, 42.2077922077922, 43.26530612244898, 45.39363484087102, 45.45454545454545, 44.25612052730697, 43.87755102040816, 42.67857142857142, 43.76163873370577, 48.46029173419773, 48.030018761726076, 46.06060606060606, 51.91424196018377, 46.62921348314607]\n",
            "[]\n"
          ]
        }
      ]
    },
    {
      "cell_type": "code",
      "source": [
        "release_df = pd.DataFrame(index=df['release_date'].unique())\n",
        "release_df['postive_percentage'] = posi_y\n",
        "release_df['negative_percentage'] = nega_y\n",
        "release_df.head()"
      ],
      "metadata": {
        "id": "EIThutl2phrk",
        "colab": {
          "base_uri": "https://localhost:8080/",
          "height": 206
        },
        "outputId": "a388a9d1-60f7-478c-de20-0fbb3696e70c"
      },
      "execution_count": 32,
      "outputs": [
        {
          "output_type": "execute_result",
          "data": {
            "text/plain": [
              "      postive_percentage  negative_percentage\n",
              "1950           80.392157            17.647059\n",
              "1951           68.965517            31.034483\n",
              "1952           71.666667            28.333333\n",
              "1953           75.000000            25.000000\n",
              "1954           72.477064            25.688073"
            ],
            "text/html": [
              "\n",
              "  <div id=\"df-f606a008-5fea-4fb9-b5bc-25277718fc0a\">\n",
              "    <div class=\"colab-df-container\">\n",
              "      <div>\n",
              "<style scoped>\n",
              "    .dataframe tbody tr th:only-of-type {\n",
              "        vertical-align: middle;\n",
              "    }\n",
              "\n",
              "    .dataframe tbody tr th {\n",
              "        vertical-align: top;\n",
              "    }\n",
              "\n",
              "    .dataframe thead th {\n",
              "        text-align: right;\n",
              "    }\n",
              "</style>\n",
              "<table border=\"1\" class=\"dataframe\">\n",
              "  <thead>\n",
              "    <tr style=\"text-align: right;\">\n",
              "      <th></th>\n",
              "      <th>postive_percentage</th>\n",
              "      <th>negative_percentage</th>\n",
              "    </tr>\n",
              "  </thead>\n",
              "  <tbody>\n",
              "    <tr>\n",
              "      <th>1950</th>\n",
              "      <td>80.392157</td>\n",
              "      <td>17.647059</td>\n",
              "    </tr>\n",
              "    <tr>\n",
              "      <th>1951</th>\n",
              "      <td>68.965517</td>\n",
              "      <td>31.034483</td>\n",
              "    </tr>\n",
              "    <tr>\n",
              "      <th>1952</th>\n",
              "      <td>71.666667</td>\n",
              "      <td>28.333333</td>\n",
              "    </tr>\n",
              "    <tr>\n",
              "      <th>1953</th>\n",
              "      <td>75.000000</td>\n",
              "      <td>25.000000</td>\n",
              "    </tr>\n",
              "    <tr>\n",
              "      <th>1954</th>\n",
              "      <td>72.477064</td>\n",
              "      <td>25.688073</td>\n",
              "    </tr>\n",
              "  </tbody>\n",
              "</table>\n",
              "</div>\n",
              "      <button class=\"colab-df-convert\" onclick=\"convertToInteractive('df-f606a008-5fea-4fb9-b5bc-25277718fc0a')\"\n",
              "              title=\"Convert this dataframe to an interactive table.\"\n",
              "              style=\"display:none;\">\n",
              "        \n",
              "  <svg xmlns=\"http://www.w3.org/2000/svg\" height=\"24px\"viewBox=\"0 0 24 24\"\n",
              "       width=\"24px\">\n",
              "    <path d=\"M0 0h24v24H0V0z\" fill=\"none\"/>\n",
              "    <path d=\"M18.56 5.44l.94 2.06.94-2.06 2.06-.94-2.06-.94-.94-2.06-.94 2.06-2.06.94zm-11 1L8.5 8.5l.94-2.06 2.06-.94-2.06-.94L8.5 2.5l-.94 2.06-2.06.94zm10 10l.94 2.06.94-2.06 2.06-.94-2.06-.94-.94-2.06-.94 2.06-2.06.94z\"/><path d=\"M17.41 7.96l-1.37-1.37c-.4-.4-.92-.59-1.43-.59-.52 0-1.04.2-1.43.59L10.3 9.45l-7.72 7.72c-.78.78-.78 2.05 0 2.83L4 21.41c.39.39.9.59 1.41.59.51 0 1.02-.2 1.41-.59l7.78-7.78 2.81-2.81c.8-.78.8-2.07 0-2.86zM5.41 20L4 18.59l7.72-7.72 1.47 1.35L5.41 20z\"/>\n",
              "  </svg>\n",
              "      </button>\n",
              "      \n",
              "  <style>\n",
              "    .colab-df-container {\n",
              "      display:flex;\n",
              "      flex-wrap:wrap;\n",
              "      gap: 12px;\n",
              "    }\n",
              "\n",
              "    .colab-df-convert {\n",
              "      background-color: #E8F0FE;\n",
              "      border: none;\n",
              "      border-radius: 50%;\n",
              "      cursor: pointer;\n",
              "      display: none;\n",
              "      fill: #1967D2;\n",
              "      height: 32px;\n",
              "      padding: 0 0 0 0;\n",
              "      width: 32px;\n",
              "    }\n",
              "\n",
              "    .colab-df-convert:hover {\n",
              "      background-color: #E2EBFA;\n",
              "      box-shadow: 0px 1px 2px rgba(60, 64, 67, 0.3), 0px 1px 3px 1px rgba(60, 64, 67, 0.15);\n",
              "      fill: #174EA6;\n",
              "    }\n",
              "\n",
              "    [theme=dark] .colab-df-convert {\n",
              "      background-color: #3B4455;\n",
              "      fill: #D2E3FC;\n",
              "    }\n",
              "\n",
              "    [theme=dark] .colab-df-convert:hover {\n",
              "      background-color: #434B5C;\n",
              "      box-shadow: 0px 1px 3px 1px rgba(0, 0, 0, 0.15);\n",
              "      filter: drop-shadow(0px 1px 2px rgba(0, 0, 0, 0.3));\n",
              "      fill: #FFFFFF;\n",
              "    }\n",
              "  </style>\n",
              "\n",
              "      <script>\n",
              "        const buttonEl =\n",
              "          document.querySelector('#df-f606a008-5fea-4fb9-b5bc-25277718fc0a button.colab-df-convert');\n",
              "        buttonEl.style.display =\n",
              "          google.colab.kernel.accessAllowed ? 'block' : 'none';\n",
              "\n",
              "        async function convertToInteractive(key) {\n",
              "          const element = document.querySelector('#df-f606a008-5fea-4fb9-b5bc-25277718fc0a');\n",
              "          const dataTable =\n",
              "            await google.colab.kernel.invokeFunction('convertToInteractive',\n",
              "                                                     [key], {});\n",
              "          if (!dataTable) return;\n",
              "\n",
              "          const docLinkHtml = 'Like what you see? Visit the ' +\n",
              "            '<a target=\"_blank\" href=https://colab.research.google.com/notebooks/data_table.ipynb>data table notebook</a>'\n",
              "            + ' to learn more about interactive tables.';\n",
              "          element.innerHTML = '';\n",
              "          dataTable['output_type'] = 'display_data';\n",
              "          await google.colab.output.renderOutput(dataTable, element);\n",
              "          const docLink = document.createElement('div');\n",
              "          docLink.innerHTML = docLinkHtml;\n",
              "          element.appendChild(docLink);\n",
              "        }\n",
              "      </script>\n",
              "    </div>\n",
              "  </div>\n",
              "  "
            ]
          },
          "metadata": {},
          "execution_count": 32
        }
      ]
    },
    {
      "cell_type": "code",
      "source": [
        "import plotly.io as pio\n",
        "\n",
        "fig = go.Figure([go.Scatter(x=release_df.index, y=release_df['postive_percentage'],name=\"Positive\")])\n",
        "fig.add_trace( go.Scatter(x=release_df.index, y=release_df['negative_percentage'],name=\"Negative\"))\n",
        "\n",
        "fig.add_vline(x=1969,line_dash=\"dash\",annotation_text=\"Man on the moon\", annotation_position=\"top left\")\n",
        "fig.add_vline(x=1975,line_dash=\"dash\",annotation_text=\"End of Vietnam war\")\n",
        "fig.add_vline(x=1989,line_dash=\"dash\",annotation_text=\"Fall Berlin wall\")\n",
        "fig.add_vline(x=2001,line_dash=\"dash\",annotation_text=\"9/11\")\n",
        "fig.add_vline(x=2015,line_dash=\"dash\",annotation_text=\"Migrant crisis\", annotation_position=\"top left\")\n",
        "\n",
        "fig.update_layout(\n",
        "    margin=dict(l=20, r=20, t=50, b=20),\n",
        "    title=\"Sentiment percentage over time\",\n",
        "    xaxis_title=\"Decade\",\n",
        "    yaxis_title=\"Relative percentage of total sentiment\",\n",
        "    legend_title=\"Sentiments\",\n",
        "    title_x=0.45,\n",
        "    font=dict(\n",
        "        family=\"Arial\",\n",
        "        size=14,\n",
        "    ),\n",
        "    width=1500,\n",
        "    height=500\n",
        ")\n",
        "pio.write_image(fig, 'fig1.pdf')\n",
        "fig.show()"
      ],
      "metadata": {
        "id": "f2p-5xqopsWR",
        "colab": {
          "base_uri": "https://localhost:8080/",
          "height": 517
        },
        "outputId": "9a9b1a7b-4b3d-4fdc-db5f-0e9a47b07969"
      },
      "execution_count": 33,
      "outputs": [
        {
          "output_type": "display_data",
          "data": {
            "text/html": [
              "<html>\n",
              "<head><meta charset=\"utf-8\" /></head>\n",
              "<body>\n",
              "    <div>            <script src=\"https://cdnjs.cloudflare.com/ajax/libs/mathjax/2.7.5/MathJax.js?config=TeX-AMS-MML_SVG\"></script><script type=\"text/javascript\">if (window.MathJax) {MathJax.Hub.Config({SVG: {font: \"STIX-Web\"}});}</script>                <script type=\"text/javascript\">window.PlotlyConfig = {MathJaxConfig: 'local'};</script>\n",
              "        <script src=\"https://cdn.plot.ly/plotly-2.8.3.min.js\"></script>                <div id=\"c76988f0-6184-4105-bc9c-d7f9c3c095f3\" class=\"plotly-graph-div\" style=\"height:500px; width:1500px;\"></div>            <script type=\"text/javascript\">                                    window.PLOTLYENV=window.PLOTLYENV || {};                                    if (document.getElementById(\"c76988f0-6184-4105-bc9c-d7f9c3c095f3\")) {                    Plotly.newPlot(                        \"c76988f0-6184-4105-bc9c-d7f9c3c095f3\",                        [{\"name\":\"Positive\",\"x\":[1950,1951,1952,1953,1954,1955,1956,1957,1958,1959,1960,1961,1962,1963,1964,1965,1966,1967,1968,1969,1970,1971,1972,1973,1974,1975,1976,1977,1978,1979,1980,1981,1982,1983,1984,1985,1986,1987,1988,1989,1990,1991,1992,1993,1994,1995,1996,1997,1998,1999,2000,2001,2002,2003,2004,2005,2006,2007,2008,2009,2010,2011,2012,2013,2014,2015,2016,2017,2018,2019],\"y\":[80.3921568627451,68.96551724137932,71.66666666666667,75.0,72.47706422018348,75.47169811320755,76.0,67.51054852320675,73.17073170731707,71.47435897435898,64.23357664233576,66.05166051660517,68.28478964401295,66.39566395663957,62.92428198433421,64.32584269662921,68.80466472303208,62.944162436548226,67.0103092783505,61.49068322981367,62.5,61.43250688705234,66.189111747851,62.755102040816325,71.8232044198895,63.14496314496314,62.64044943820225,64.7196261682243,60.130718954248366,57.14285714285714,60.90373280943025,58.84615384615385,54.67775467775468,54.372623574144484,54.315789473684205,59.95085995085995,63.146551724137936,58.85057471264368,59.95260663507109,60.550458715596335,55.09708737864077,58.25049701789264,57.874015748031496,58.76288659793815,56.55913978494623,52.72727272727272,58.009708737864074,55.831265508684865,55.33980582524271,59.32203389830508,58.7467362924282,54.077253218884124,53.747323340471084,56.17021276595745,52.19206680584551,54.090909090909086,57.874762808349146,55.84415584415584,54.08163265306123,52.26130653266332,52.15311004784689,54.80225988700565,53.91156462585034,55.714285714285715,54.56238361266295,49.59481361426256,49.530956848030016,52.121212121212125,45.94180704441042,51.31086142322098],\"type\":\"scatter\"},{\"name\":\"Negative\",\"x\":[1950,1951,1952,1953,1954,1955,1956,1957,1958,1959,1960,1961,1962,1963,1964,1965,1966,1967,1968,1969,1970,1971,1972,1973,1974,1975,1976,1977,1978,1979,1980,1981,1982,1983,1984,1985,1986,1987,1988,1989,1990,1991,1992,1993,1994,1995,1996,1997,1998,1999,2000,2001,2002,2003,2004,2005,2006,2007,2008,2009,2010,2011,2012,2013,2014,2015,2016,2017,2018,2019],\"y\":[17.647058823529413,31.03448275862069,28.333333333333332,25.0,25.688073394495415,21.69811320754717,22.0,31.645569620253166,24.041811846689896,26.282051282051285,32.846715328467155,32.10332103321033,29.773462783171524,32.52032520325203,34.20365535248042,33.70786516853933,27.405247813411076,33.756345177664976,30.15463917525773,35.40372670807454,35.22727272727273,34.9862258953168,31.51862464183381,35.204081632653065,27.071823204419886,34.15233415233415,35.674157303370784,33.41121495327103,38.12636165577342,39.958592132505174,36.93516699410609,38.46153846153847,44.07484407484408,43.72623574144487,44.21052631578947,37.59213759213759,34.69827586206897,38.39080459770115,37.91469194312796,37.61467889908257,42.71844660194174,39.165009940357855,40.354330708661415,39.58762886597938,41.935483870967744,44.935064935064936,41.262135922330096,41.43920595533499,41.99029126213592,40.25423728813559,39.686684073107045,44.4206008583691,44.96788008565311,41.91489361702128,46.13778705636743,44.31818181818182,40.60721062618596,42.2077922077922,43.26530612244898,45.39363484087102,45.45454545454545,44.25612052730697,43.87755102040816,42.67857142857142,43.76163873370577,48.46029173419773,48.030018761726076,46.06060606060606,51.91424196018377,46.62921348314607],\"type\":\"scatter\"}],                        {\"template\":{\"data\":{\"bar\":[{\"error_x\":{\"color\":\"#2a3f5f\"},\"error_y\":{\"color\":\"#2a3f5f\"},\"marker\":{\"line\":{\"color\":\"#E5ECF6\",\"width\":0.5},\"pattern\":{\"fillmode\":\"overlay\",\"size\":10,\"solidity\":0.2}},\"type\":\"bar\"}],\"barpolar\":[{\"marker\":{\"line\":{\"color\":\"#E5ECF6\",\"width\":0.5},\"pattern\":{\"fillmode\":\"overlay\",\"size\":10,\"solidity\":0.2}},\"type\":\"barpolar\"}],\"carpet\":[{\"aaxis\":{\"endlinecolor\":\"#2a3f5f\",\"gridcolor\":\"white\",\"linecolor\":\"white\",\"minorgridcolor\":\"white\",\"startlinecolor\":\"#2a3f5f\"},\"baxis\":{\"endlinecolor\":\"#2a3f5f\",\"gridcolor\":\"white\",\"linecolor\":\"white\",\"minorgridcolor\":\"white\",\"startlinecolor\":\"#2a3f5f\"},\"type\":\"carpet\"}],\"choropleth\":[{\"colorbar\":{\"outlinewidth\":0,\"ticks\":\"\"},\"type\":\"choropleth\"}],\"contour\":[{\"colorbar\":{\"outlinewidth\":0,\"ticks\":\"\"},\"colorscale\":[[0.0,\"#0d0887\"],[0.1111111111111111,\"#46039f\"],[0.2222222222222222,\"#7201a8\"],[0.3333333333333333,\"#9c179e\"],[0.4444444444444444,\"#bd3786\"],[0.5555555555555556,\"#d8576b\"],[0.6666666666666666,\"#ed7953\"],[0.7777777777777778,\"#fb9f3a\"],[0.8888888888888888,\"#fdca26\"],[1.0,\"#f0f921\"]],\"type\":\"contour\"}],\"contourcarpet\":[{\"colorbar\":{\"outlinewidth\":0,\"ticks\":\"\"},\"type\":\"contourcarpet\"}],\"heatmap\":[{\"colorbar\":{\"outlinewidth\":0,\"ticks\":\"\"},\"colorscale\":[[0.0,\"#0d0887\"],[0.1111111111111111,\"#46039f\"],[0.2222222222222222,\"#7201a8\"],[0.3333333333333333,\"#9c179e\"],[0.4444444444444444,\"#bd3786\"],[0.5555555555555556,\"#d8576b\"],[0.6666666666666666,\"#ed7953\"],[0.7777777777777778,\"#fb9f3a\"],[0.8888888888888888,\"#fdca26\"],[1.0,\"#f0f921\"]],\"type\":\"heatmap\"}],\"heatmapgl\":[{\"colorbar\":{\"outlinewidth\":0,\"ticks\":\"\"},\"colorscale\":[[0.0,\"#0d0887\"],[0.1111111111111111,\"#46039f\"],[0.2222222222222222,\"#7201a8\"],[0.3333333333333333,\"#9c179e\"],[0.4444444444444444,\"#bd3786\"],[0.5555555555555556,\"#d8576b\"],[0.6666666666666666,\"#ed7953\"],[0.7777777777777778,\"#fb9f3a\"],[0.8888888888888888,\"#fdca26\"],[1.0,\"#f0f921\"]],\"type\":\"heatmapgl\"}],\"histogram\":[{\"marker\":{\"pattern\":{\"fillmode\":\"overlay\",\"size\":10,\"solidity\":0.2}},\"type\":\"histogram\"}],\"histogram2d\":[{\"colorbar\":{\"outlinewidth\":0,\"ticks\":\"\"},\"colorscale\":[[0.0,\"#0d0887\"],[0.1111111111111111,\"#46039f\"],[0.2222222222222222,\"#7201a8\"],[0.3333333333333333,\"#9c179e\"],[0.4444444444444444,\"#bd3786\"],[0.5555555555555556,\"#d8576b\"],[0.6666666666666666,\"#ed7953\"],[0.7777777777777778,\"#fb9f3a\"],[0.8888888888888888,\"#fdca26\"],[1.0,\"#f0f921\"]],\"type\":\"histogram2d\"}],\"histogram2dcontour\":[{\"colorbar\":{\"outlinewidth\":0,\"ticks\":\"\"},\"colorscale\":[[0.0,\"#0d0887\"],[0.1111111111111111,\"#46039f\"],[0.2222222222222222,\"#7201a8\"],[0.3333333333333333,\"#9c179e\"],[0.4444444444444444,\"#bd3786\"],[0.5555555555555556,\"#d8576b\"],[0.6666666666666666,\"#ed7953\"],[0.7777777777777778,\"#fb9f3a\"],[0.8888888888888888,\"#fdca26\"],[1.0,\"#f0f921\"]],\"type\":\"histogram2dcontour\"}],\"mesh3d\":[{\"colorbar\":{\"outlinewidth\":0,\"ticks\":\"\"},\"type\":\"mesh3d\"}],\"parcoords\":[{\"line\":{\"colorbar\":{\"outlinewidth\":0,\"ticks\":\"\"}},\"type\":\"parcoords\"}],\"pie\":[{\"automargin\":true,\"type\":\"pie\"}],\"scatter\":[{\"marker\":{\"colorbar\":{\"outlinewidth\":0,\"ticks\":\"\"}},\"type\":\"scatter\"}],\"scatter3d\":[{\"line\":{\"colorbar\":{\"outlinewidth\":0,\"ticks\":\"\"}},\"marker\":{\"colorbar\":{\"outlinewidth\":0,\"ticks\":\"\"}},\"type\":\"scatter3d\"}],\"scattercarpet\":[{\"marker\":{\"colorbar\":{\"outlinewidth\":0,\"ticks\":\"\"}},\"type\":\"scattercarpet\"}],\"scattergeo\":[{\"marker\":{\"colorbar\":{\"outlinewidth\":0,\"ticks\":\"\"}},\"type\":\"scattergeo\"}],\"scattergl\":[{\"marker\":{\"colorbar\":{\"outlinewidth\":0,\"ticks\":\"\"}},\"type\":\"scattergl\"}],\"scattermapbox\":[{\"marker\":{\"colorbar\":{\"outlinewidth\":0,\"ticks\":\"\"}},\"type\":\"scattermapbox\"}],\"scatterpolar\":[{\"marker\":{\"colorbar\":{\"outlinewidth\":0,\"ticks\":\"\"}},\"type\":\"scatterpolar\"}],\"scatterpolargl\":[{\"marker\":{\"colorbar\":{\"outlinewidth\":0,\"ticks\":\"\"}},\"type\":\"scatterpolargl\"}],\"scatterternary\":[{\"marker\":{\"colorbar\":{\"outlinewidth\":0,\"ticks\":\"\"}},\"type\":\"scatterternary\"}],\"surface\":[{\"colorbar\":{\"outlinewidth\":0,\"ticks\":\"\"},\"colorscale\":[[0.0,\"#0d0887\"],[0.1111111111111111,\"#46039f\"],[0.2222222222222222,\"#7201a8\"],[0.3333333333333333,\"#9c179e\"],[0.4444444444444444,\"#bd3786\"],[0.5555555555555556,\"#d8576b\"],[0.6666666666666666,\"#ed7953\"],[0.7777777777777778,\"#fb9f3a\"],[0.8888888888888888,\"#fdca26\"],[1.0,\"#f0f921\"]],\"type\":\"surface\"}],\"table\":[{\"cells\":{\"fill\":{\"color\":\"#EBF0F8\"},\"line\":{\"color\":\"white\"}},\"header\":{\"fill\":{\"color\":\"#C8D4E3\"},\"line\":{\"color\":\"white\"}},\"type\":\"table\"}]},\"layout\":{\"annotationdefaults\":{\"arrowcolor\":\"#2a3f5f\",\"arrowhead\":0,\"arrowwidth\":1},\"autotypenumbers\":\"strict\",\"coloraxis\":{\"colorbar\":{\"outlinewidth\":0,\"ticks\":\"\"}},\"colorscale\":{\"diverging\":[[0,\"#8e0152\"],[0.1,\"#c51b7d\"],[0.2,\"#de77ae\"],[0.3,\"#f1b6da\"],[0.4,\"#fde0ef\"],[0.5,\"#f7f7f7\"],[0.6,\"#e6f5d0\"],[0.7,\"#b8e186\"],[0.8,\"#7fbc41\"],[0.9,\"#4d9221\"],[1,\"#276419\"]],\"sequential\":[[0.0,\"#0d0887\"],[0.1111111111111111,\"#46039f\"],[0.2222222222222222,\"#7201a8\"],[0.3333333333333333,\"#9c179e\"],[0.4444444444444444,\"#bd3786\"],[0.5555555555555556,\"#d8576b\"],[0.6666666666666666,\"#ed7953\"],[0.7777777777777778,\"#fb9f3a\"],[0.8888888888888888,\"#fdca26\"],[1.0,\"#f0f921\"]],\"sequentialminus\":[[0.0,\"#0d0887\"],[0.1111111111111111,\"#46039f\"],[0.2222222222222222,\"#7201a8\"],[0.3333333333333333,\"#9c179e\"],[0.4444444444444444,\"#bd3786\"],[0.5555555555555556,\"#d8576b\"],[0.6666666666666666,\"#ed7953\"],[0.7777777777777778,\"#fb9f3a\"],[0.8888888888888888,\"#fdca26\"],[1.0,\"#f0f921\"]]},\"colorway\":[\"#636efa\",\"#EF553B\",\"#00cc96\",\"#ab63fa\",\"#FFA15A\",\"#19d3f3\",\"#FF6692\",\"#B6E880\",\"#FF97FF\",\"#FECB52\"],\"font\":{\"color\":\"#2a3f5f\"},\"geo\":{\"bgcolor\":\"white\",\"lakecolor\":\"white\",\"landcolor\":\"#E5ECF6\",\"showlakes\":true,\"showland\":true,\"subunitcolor\":\"white\"},\"hoverlabel\":{\"align\":\"left\"},\"hovermode\":\"closest\",\"mapbox\":{\"style\":\"light\"},\"paper_bgcolor\":\"white\",\"plot_bgcolor\":\"#E5ECF6\",\"polar\":{\"angularaxis\":{\"gridcolor\":\"white\",\"linecolor\":\"white\",\"ticks\":\"\"},\"bgcolor\":\"#E5ECF6\",\"radialaxis\":{\"gridcolor\":\"white\",\"linecolor\":\"white\",\"ticks\":\"\"}},\"scene\":{\"xaxis\":{\"backgroundcolor\":\"#E5ECF6\",\"gridcolor\":\"white\",\"gridwidth\":2,\"linecolor\":\"white\",\"showbackground\":true,\"ticks\":\"\",\"zerolinecolor\":\"white\"},\"yaxis\":{\"backgroundcolor\":\"#E5ECF6\",\"gridcolor\":\"white\",\"gridwidth\":2,\"linecolor\":\"white\",\"showbackground\":true,\"ticks\":\"\",\"zerolinecolor\":\"white\"},\"zaxis\":{\"backgroundcolor\":\"#E5ECF6\",\"gridcolor\":\"white\",\"gridwidth\":2,\"linecolor\":\"white\",\"showbackground\":true,\"ticks\":\"\",\"zerolinecolor\":\"white\"}},\"shapedefaults\":{\"line\":{\"color\":\"#2a3f5f\"}},\"ternary\":{\"aaxis\":{\"gridcolor\":\"white\",\"linecolor\":\"white\",\"ticks\":\"\"},\"baxis\":{\"gridcolor\":\"white\",\"linecolor\":\"white\",\"ticks\":\"\"},\"bgcolor\":\"#E5ECF6\",\"caxis\":{\"gridcolor\":\"white\",\"linecolor\":\"white\",\"ticks\":\"\"}},\"title\":{\"x\":0.05},\"xaxis\":{\"automargin\":true,\"gridcolor\":\"white\",\"linecolor\":\"white\",\"ticks\":\"\",\"title\":{\"standoff\":15},\"zerolinecolor\":\"white\",\"zerolinewidth\":2},\"yaxis\":{\"automargin\":true,\"gridcolor\":\"white\",\"linecolor\":\"white\",\"ticks\":\"\",\"title\":{\"standoff\":15},\"zerolinecolor\":\"white\",\"zerolinewidth\":2}}},\"shapes\":[{\"line\":{\"dash\":\"dash\"},\"type\":\"line\",\"x0\":1969,\"x1\":1969,\"xref\":\"x\",\"y0\":0,\"y1\":1,\"yref\":\"y domain\"},{\"line\":{\"dash\":\"dash\"},\"type\":\"line\",\"x0\":1975,\"x1\":1975,\"xref\":\"x\",\"y0\":0,\"y1\":1,\"yref\":\"y domain\"},{\"line\":{\"dash\":\"dash\"},\"type\":\"line\",\"x0\":1989,\"x1\":1989,\"xref\":\"x\",\"y0\":0,\"y1\":1,\"yref\":\"y domain\"},{\"line\":{\"dash\":\"dash\"},\"type\":\"line\",\"x0\":2001,\"x1\":2001,\"xref\":\"x\",\"y0\":0,\"y1\":1,\"yref\":\"y domain\"},{\"line\":{\"dash\":\"dash\"},\"type\":\"line\",\"x0\":2015,\"x1\":2015,\"xref\":\"x\",\"y0\":0,\"y1\":1,\"yref\":\"y domain\"}],\"annotations\":[{\"showarrow\":false,\"text\":\"Man on the moon\",\"x\":1969,\"xanchor\":\"right\",\"xref\":\"x\",\"y\":1,\"yanchor\":\"top\",\"yref\":\"y domain\"},{\"showarrow\":false,\"text\":\"End of Vietnam war\",\"x\":1975,\"xanchor\":\"left\",\"xref\":\"x\",\"y\":1,\"yanchor\":\"top\",\"yref\":\"y domain\"},{\"showarrow\":false,\"text\":\"Fall Berlin wall\",\"x\":1989,\"xanchor\":\"left\",\"xref\":\"x\",\"y\":1,\"yanchor\":\"top\",\"yref\":\"y domain\"},{\"showarrow\":false,\"text\":\"9/11\",\"x\":2001,\"xanchor\":\"left\",\"xref\":\"x\",\"y\":1,\"yanchor\":\"top\",\"yref\":\"y domain\"},{\"showarrow\":false,\"text\":\"Migrant crisis\",\"x\":2015,\"xanchor\":\"right\",\"xref\":\"x\",\"y\":1,\"yanchor\":\"top\",\"yref\":\"y domain\"}],\"margin\":{\"l\":20,\"r\":20,\"t\":50,\"b\":20},\"title\":{\"text\":\"Sentiment percentage over time\",\"x\":0.45},\"font\":{\"family\":\"Arial\",\"size\":14},\"xaxis\":{\"title\":{\"text\":\"Decade\"}},\"yaxis\":{\"title\":{\"text\":\"Relative percentage of total sentiment\"}},\"legend\":{\"title\":{\"text\":\"Sentiments\"}},\"width\":1500,\"height\":500},                        {\"responsive\": true}                    ).then(function(){\n",
              "                            \n",
              "var gd = document.getElementById('c76988f0-6184-4105-bc9c-d7f9c3c095f3');\n",
              "var x = new MutationObserver(function (mutations, observer) {{\n",
              "        var display = window.getComputedStyle(gd).display;\n",
              "        if (!display || display === 'none') {{\n",
              "            console.log([gd, 'removed!']);\n",
              "            Plotly.purge(gd);\n",
              "            observer.disconnect();\n",
              "        }}\n",
              "}});\n",
              "\n",
              "// Listen for the removal of the full notebook cells\n",
              "var notebookContainer = gd.closest('#notebook-container');\n",
              "if (notebookContainer) {{\n",
              "    x.observe(notebookContainer, {childList: true});\n",
              "}}\n",
              "\n",
              "// Listen for the clearing of the current output cell\n",
              "var outputEl = gd.closest('.output');\n",
              "if (outputEl) {{\n",
              "    x.observe(outputEl, {childList: true});\n",
              "}}\n",
              "\n",
              "                        })                };                            </script>        </div>\n",
              "</body>\n",
              "</html>"
            ]
          },
          "metadata": {}
        }
      ]
    },
    {
      "cell_type": "markdown",
      "source": [
        "## Testing Significance between the first and last decade for negative sentiment.\n",
        "Difference in sentiment between the first and last decade."
      ],
      "metadata": {
        "id": "xpkJ1QUeRU5l"
      }
    },
    {
      "cell_type": "code",
      "source": [
        "foo_neg = release_df['negative_percentage'].iloc[:10]\n",
        "\n",
        "\n",
        "foo_neg_end = release_df['negative_percentage'].iloc[60:]\n",
        "print(foo_neg.to_numpy())\n",
        "print(foo_neg_end.to_numpy())"
      ],
      "metadata": {
        "id": "q7G7RvDlX1iZ",
        "colab": {
          "base_uri": "https://localhost:8080/"
        },
        "outputId": "9a246b8b-1ab6-41cc-9cca-7e970a7cc711"
      },
      "execution_count": 35,
      "outputs": [
        {
          "output_type": "stream",
          "name": "stdout",
          "text": [
            "[17.64705882 31.03448276 28.33333333 25.         25.68807339 21.69811321\n",
            " 22.         31.64556962 24.04181185 26.28205128]\n",
            "[45.45454545 44.25612053 43.87755102 42.67857143 43.76163873 48.46029173\n",
            " 48.03001876 46.06060606 51.91424196 46.62921348]\n"
          ]
        }
      ]
    },
    {
      "cell_type": "code",
      "source": [
        "from scipy import stats\n",
        "from scipy.stats import ttest_ind\n",
        "_, p1 = stats.wilcoxon(foo_neg.to_numpy(),foo_neg_end.to_numpy(),alternative=\"less\")\n",
        "print(p1)\n"
      ],
      "metadata": {
        "id": "4sFGOPHETDog",
        "colab": {
          "base_uri": "https://localhost:8080/"
        },
        "outputId": "d9589930-c485-4f34-849c-7defa73b2cf7"
      },
      "execution_count": 37,
      "outputs": [
        {
          "output_type": "stream",
          "name": "stdout",
          "text": [
            "0.0009765625\n",
            "0.0009765625\n"
          ]
        }
      ]
    }
  ]
}